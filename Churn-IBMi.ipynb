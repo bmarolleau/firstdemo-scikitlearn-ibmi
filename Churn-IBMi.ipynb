{
 "cells": [
  {
   "cell_type": "markdown",
   "metadata": {},
   "source": [
    "# Machine Learning on IBM i : Real time Customer churn scoring  \n",
    "### using Scikit Learn, pandas, seaborn and Db2 for i "
   ]
  },
  {
   "cell_type": "markdown",
   "metadata": {},
   "source": [
    "Version May 2020 **#Updated: October 2024** "
   ]
  },
  {
   "cell_type": "markdown",
   "metadata": {},
   "source": [
    "##### The Dataset\n",
    "\n",
    "From a telecommunications company. It includes information about:\n",
    "\n",
    "   - Customers who left within the last month – the column is called Churn\n",
    "\n",
    "   - Services that each customer has signed up for – phone, multiple lines, internet, online security, online backup, device protection, tech support, and streaming TV and movies\n",
    "\n",
    "   - Customer account information – how long they’ve been a customer, contract, payment method, paperless billing, monthly charges, and total charges\n",
    "\n",
    "   - Demographic info about customers – gender, age range, and if they have partners and dependents\n",
    "\n",
    "\n",
    "#### Features Information (non exhaustive) :\n",
    "- Partner: whether the customer has a partner or not (Yes, No),\n",
    "- Dependents: whether the customer has dependents or not (Yes, No),\n",
    "- OnlineBackup: Whether the customer has an online backup or not (Yes, No, No internet service),\n",
    "- tenure: number of months the customer has stayed with the company,\n",
    "- MonthlyCharges: the amount charged to the customer monthly,\n",
    "- TotalCharges: the total amount charged to the customer.\n",
    "   \n",
    "Telco dataset is already grouped by customerID so it is difficult to add new features. When working on the churn prediction we usually get a dataset that has one entry per customer session (customer activity in a certain time). Then we could add features like:\n",
    "\n",
    "    number of sessions before buying something,\n",
    "    average time per session,\n",
    "    time difference between sessions (frequent or less frequent customer),\n",
    "    is a customer only in one country.\n",
    "\n",
    "Sometimes we even have customer event data, which enables us to find patterns of customer behavior in relation to the outcome (churn)."
   ]
  },
  {
   "cell_type": "code",
   "execution_count": 1,
   "metadata": {},
   "outputs": [
    {
     "data": {
      "text/plain": [
       "'/home/benoit/firstdemo-scikitlearn-ibmi'"
      ]
     },
     "execution_count": 1,
     "metadata": {},
     "output_type": "execute_result"
    }
   ],
   "source": [
    "%pwd"
   ]
  },
  {
   "cell_type": "code",
   "execution_count": 2,
   "metadata": {},
   "outputs": [
    {
     "name": "stdout",
     "output_type": "stream",
     "text": [
      "sklearn version : 0.19.1\n"
     ]
    }
   ],
   "source": [
    "# Dowload the original dataset if necessary\n",
    "#!wget https://community.watsonanalytics.com/wp-content/uploads/2015/03/WA_Fn-UseC_-Telco-Customer-Churn.csv  --no-check-certificate\n",
    "\n",
    "# Import packages & libraries \n",
    "import os\n",
    "import numpy as np\n",
    "import seaborn as sns\n",
    "import matplotlib.pyplot as plt\n",
    "import sklearn\n",
    "print(\"sklearn version :\", sklearn.__version__)\n",
    "import pandas as pd\n",
    "from pandas import Series, DataFrame\n",
    "#import pandas_profiling\n",
    "pd.set_option('display.max_rows', None,'display.max_columns', None)\n",
    "\n",
    "from collections import Counter\n",
    "from collections import defaultdict\n",
    "from itertools import combinations"
   ]
  },
  {
   "cell_type": "markdown",
   "metadata": {},
   "source": [
    "## 2. Loading Our Dataset from a Relational Database - Db2 for i"
   ]
  },
  {
   "cell_type": "code",
   "execution_count": 3,
   "metadata": {},
   "outputs": [
    {
     "name": "stdout",
     "output_type": "stream",
     "text": [
      "Example: ('7590-VHVEG', 'Female', Decimal('0'), 'Yes', 'No ', Decimal('1'), 'No ', 'No phone service', 'DSL        ', 'No                 ', 'Yes                ', 'No                 ', 'No                 ', 'No                 ', 'No                 ', 'Month-to-month', 'Yes', 'Electronic check         ', Decimal('29.85'), Decimal('29.85'), 'No ')\n",
      "<class 'pandas.core.frame.DataFrame'>\n",
      "RangeIndex: 7043 entries, 0 to 7042\n",
      "Data columns (total 21 columns):\n",
      " #   Column            Non-Null Count  Dtype  \n",
      "---  ------            --------------  -----  \n",
      " 0   CUSTOMERID        7043 non-null   object \n",
      " 1   GENDER            7043 non-null   object \n",
      " 2   SENIORCITIZEN     7043 non-null   float64\n",
      " 3   PARTNER           7043 non-null   object \n",
      " 4   DEPENDENTS        7043 non-null   object \n",
      " 5   TENURE            7043 non-null   float64\n",
      " 6   PHONESERVICE      7043 non-null   object \n",
      " 7   MULTIPLELINES     7043 non-null   object \n",
      " 8   INTERNETSERVICE   7043 non-null   object \n",
      " 9   ONLINESECURITY    7043 non-null   object \n",
      " 10  ONLINEBACKUP      7043 non-null   object \n",
      " 11  DEVICEPROTECTION  7043 non-null   object \n",
      " 12  TECHSUPPORT       7043 non-null   object \n",
      " 13  STREAMINGTV       7043 non-null   object \n",
      " 14  STREAMINGMOVIES   7043 non-null   object \n",
      " 15  CONTRACT          7043 non-null   object \n",
      " 16  PAPERLESSBILLING  7043 non-null   object \n",
      " 17  PAYMENTMETHOD     7043 non-null   object \n",
      " 18  MONTHLYCHARGES    7043 non-null   float64\n",
      " 19  TOTALCHARGES      7043 non-null   float64\n",
      " 20  CHURN             7043 non-null   object \n",
      "dtypes: float64(4), object(17)\n",
      "memory usage: 1.1+ MB\n"
     ]
    }
   ],
   "source": [
    "import ibm_db_dbi as dbi\n",
    "# Telco Churn dataset from a CRM datasource - here Db2 for i in CHURN/CUSTCHURN2 7044 records\n",
    "\n",
    "sql=\"SELECT * from CHURN.CUSTCHURN3\"\n",
    "pd.set_option('display.max_columns', 30)\n",
    "try:\n",
    "    conn = dbi.connect()\n",
    "    c1 = conn.cursor()\n",
    "    c1.execute(sql)\n",
    "    row = c1.fetchone()\n",
    "    print (\"Example:\" ,row)\n",
    "    df_fromdb2 = pd.read_sql(sql, conn)\n",
    "    conn.close()\n",
    "    \n",
    "    df_fromdb2.info()\n",
    "except Exception as err:\n",
    "    print('Error'+ str(err))"
   ]
  },
  {
   "cell_type": "code",
   "execution_count": 6,
   "metadata": {},
   "outputs": [],
   "source": [
    "#display(df_fromdb2)"
   ]
  },
  {
   "cell_type": "markdown",
   "metadata": {},
   "source": [
    "## 3. Load Dataframe from CSV file (IFS) &Data Visualization"
   ]
  },
  {
   "cell_type": "code",
   "execution_count": 7,
   "metadata": {},
   "outputs": [],
   "source": [
    "customer_data= pd.read_csv('dataset/WA_Fn-UseC_-Telco-Customer-Churn.csv')\n",
    "#customer_data=df_fromdb2"
   ]
  },
  {
   "cell_type": "code",
   "execution_count": 8,
   "metadata": {},
   "outputs": [
    {
     "data": {
      "text/html": [
       "<div>\n",
       "<style scoped>\n",
       "    .dataframe tbody tr th:only-of-type {\n",
       "        vertical-align: middle;\n",
       "    }\n",
       "\n",
       "    .dataframe tbody tr th {\n",
       "        vertical-align: top;\n",
       "    }\n",
       "\n",
       "    .dataframe thead th {\n",
       "        text-align: right;\n",
       "    }\n",
       "</style>\n",
       "<table border=\"1\" class=\"dataframe\">\n",
       "  <thead>\n",
       "    <tr style=\"text-align: right;\">\n",
       "      <th></th>\n",
       "      <th>SeniorCitizen</th>\n",
       "      <th>tenure</th>\n",
       "      <th>MonthlyCharges</th>\n",
       "    </tr>\n",
       "  </thead>\n",
       "  <tbody>\n",
       "    <tr>\n",
       "      <th>SeniorCitizen</th>\n",
       "      <td>1.000000</td>\n",
       "      <td>0.016567</td>\n",
       "      <td>0.220173</td>\n",
       "    </tr>\n",
       "    <tr>\n",
       "      <th>tenure</th>\n",
       "      <td>0.016567</td>\n",
       "      <td>1.000000</td>\n",
       "      <td>0.247900</td>\n",
       "    </tr>\n",
       "    <tr>\n",
       "      <th>MonthlyCharges</th>\n",
       "      <td>0.220173</td>\n",
       "      <td>0.247900</td>\n",
       "      <td>1.000000</td>\n",
       "    </tr>\n",
       "  </tbody>\n",
       "</table>\n",
       "</div>"
      ],
      "text/plain": [
       "                SeniorCitizen    tenure  MonthlyCharges\n",
       "SeniorCitizen        1.000000  0.016567        0.220173\n",
       "tenure               0.016567  1.000000        0.247900\n",
       "MonthlyCharges       0.220173  0.247900        1.000000"
      ]
     },
     "execution_count": 8,
     "metadata": {},
     "output_type": "execute_result"
    }
   ],
   "source": [
    "# Find correlations method= pearson, kendall, spearman ...\n",
    "pearsoncorr=customer_data.corr(method='pearson')\n",
    "pearsoncorr"
   ]
  },
  {
   "cell_type": "code",
   "execution_count": 9,
   "metadata": {},
   "outputs": [
    {
     "data": {
      "text/plain": [
       "<matplotlib.axes._subplots.AxesSubplot at 0x700000403d6c898>"
      ]
     },
     "execution_count": 9,
     "metadata": {},
     "output_type": "execute_result"
    },
    {
     "data": {
      "image/png": "[encoded data removed]",
      "text/plain": [
       "<Figure size 432x288 with 2 Axes>"
      ]
     },
     "metadata": {
      "needs_background": "light"
     },
     "output_type": "display_data"
    }
   ],
   "source": [
    "sns.heatmap(pearsoncorr, \n",
    "            xticklabels=pearsoncorr.columns,\n",
    "            yticklabels=pearsoncorr.columns,\n",
    "            cmap='RdBu_r',\n",
    "            annot=True,\n",
    "            linewidth=0.5)"
   ]
  },
  {
   "cell_type": "code",
   "execution_count": 10,
   "metadata": {},
   "outputs": [
    {
     "data": {
      "text/html": [
       "<div>\n",
       "<style scoped>\n",
       "    .dataframe tbody tr th:only-of-type {\n",
       "        vertical-align: middle;\n",
       "    }\n",
       "\n",
       "    .dataframe tbody tr th {\n",
       "        vertical-align: top;\n",
       "    }\n",
       "\n",
       "    .dataframe thead th {\n",
       "        text-align: right;\n",
       "    }\n",
       "</style>\n",
       "<table border=\"1\" class=\"dataframe\">\n",
       "  <thead>\n",
       "    <tr style=\"text-align: right;\">\n",
       "      <th></th>\n",
       "      <th>SeniorCitizen</th>\n",
       "      <th>tenure</th>\n",
       "      <th>MonthlyCharges</th>\n",
       "    </tr>\n",
       "  </thead>\n",
       "  <tbody>\n",
       "    <tr>\n",
       "      <th>count</th>\n",
       "      <td>7043.000</td>\n",
       "      <td>7043.000</td>\n",
       "      <td>7043.000</td>\n",
       "    </tr>\n",
       "    <tr>\n",
       "      <th>mean</th>\n",
       "      <td>0.162</td>\n",
       "      <td>32.371</td>\n",
       "      <td>64.762</td>\n",
       "    </tr>\n",
       "    <tr>\n",
       "      <th>std</th>\n",
       "      <td>0.369</td>\n",
       "      <td>24.559</td>\n",
       "      <td>30.090</td>\n",
       "    </tr>\n",
       "    <tr>\n",
       "      <th>min</th>\n",
       "      <td>0.000</td>\n",
       "      <td>0.000</td>\n",
       "      <td>18.250</td>\n",
       "    </tr>\n",
       "    <tr>\n",
       "      <th>25%</th>\n",
       "      <td>0.000</td>\n",
       "      <td>9.000</td>\n",
       "      <td>35.500</td>\n",
       "    </tr>\n",
       "    <tr>\n",
       "      <th>50%</th>\n",
       "      <td>0.000</td>\n",
       "      <td>29.000</td>\n",
       "      <td>70.350</td>\n",
       "    </tr>\n",
       "    <tr>\n",
       "      <th>75%</th>\n",
       "      <td>0.000</td>\n",
       "      <td>55.000</td>\n",
       "      <td>89.850</td>\n",
       "    </tr>\n",
       "    <tr>\n",
       "      <th>max</th>\n",
       "      <td>1.000</td>\n",
       "      <td>72.000</td>\n",
       "      <td>118.750</td>\n",
       "    </tr>\n",
       "  </tbody>\n",
       "</table>\n",
       "</div>"
      ],
      "text/plain": [
       "       SeniorCitizen    tenure  MonthlyCharges\n",
       "count       7043.000  7043.000        7043.000\n",
       "mean           0.162    32.371          64.762\n",
       "std            0.369    24.559          30.090\n",
       "min            0.000     0.000          18.250\n",
       "25%            0.000     9.000          35.500\n",
       "50%            0.000    29.000          70.350\n",
       "75%            0.000    55.000          89.850\n",
       "max            1.000    72.000         118.750"
      ]
     },
     "execution_count": 10,
     "metadata": {},
     "output_type": "execute_result"
    }
   ],
   "source": [
    "# Describe columns wit>h numerical values\n",
    "pd.set_option('precision', 3)\n",
    "customer_data.describe()"
   ]
  },
  {
   "cell_type": "code",
   "execution_count": 11,
   "metadata": {},
   "outputs": [
    {
     "name": "stdout",
     "output_type": "stream",
     "text": [
      "<class 'pandas.core.frame.DataFrame'>\n",
      "RangeIndex: 7043 entries, 0 to 7042\n",
      "Data columns (total 21 columns):\n",
      " #   Column            Non-Null Count  Dtype  \n",
      "---  ------            --------------  -----  \n",
      " 0   customerID        7043 non-null   object \n",
      " 1   gender            7043 non-null   object \n",
      " 2   SeniorCitizen     7043 non-null   int64  \n",
      " 3   Partner           7043 non-null   object \n",
      " 4   Dependents        7043 non-null   object \n",
      " 5   tenure            7043 non-null   int64  \n",
      " 6   PhoneService      7043 non-null   object \n",
      " 7   MultipleLines     7043 non-null   object \n",
      " 8   InternetService   7043 non-null   object \n",
      " 9   OnlineSecurity    7043 non-null   object \n",
      " 10  OnlineBackup      7043 non-null   object \n",
      " 11  DeviceProtection  7043 non-null   object \n",
      " 12  TechSupport       7043 non-null   object \n",
      " 13  StreamingTV       7043 non-null   object \n",
      " 14  StreamingMovies   7043 non-null   object \n",
      " 15  Contract          7043 non-null   object \n",
      " 16  PaperlessBilling  7043 non-null   object \n",
      " 17  PaymentMethod     7043 non-null   object \n",
      " 18  MonthlyCharges    7043 non-null   float64\n",
      " 19  TotalCharges      7043 non-null   object \n",
      " 20  Churn             7043 non-null   object \n",
      "dtypes: float64(1), int64(2), object(18)\n",
      "memory usage: 1.1+ MB\n"
     ]
    }
   ],
   "source": [
    "# After running this cell we will see that we have no missing values\n",
    "customer_data.info()"
   ]
  },
  {
   "cell_type": "code",
   "execution_count": 12,
   "metadata": {},
   "outputs": [
    {
     "data": {
      "text/html": [
       "<div>\n",
       "<style scoped>\n",
       "    .dataframe tbody tr th:only-of-type {\n",
       "        vertical-align: middle;\n",
       "    }\n",
       "\n",
       "    .dataframe tbody tr th {\n",
       "        vertical-align: top;\n",
       "    }\n",
       "\n",
       "    .dataframe thead th {\n",
       "        text-align: right;\n",
       "    }\n",
       "</style>\n",
       "<table border=\"1\" class=\"dataframe\">\n",
       "  <thead>\n",
       "    <tr style=\"text-align: right;\">\n",
       "      <th></th>\n",
       "      <th>gender</th>\n",
       "      <th>SeniorCitizen</th>\n",
       "      <th>Partner</th>\n",
       "      <th>Dependents</th>\n",
       "      <th>tenure</th>\n",
       "      <th>PhoneService</th>\n",
       "      <th>MultipleLines</th>\n",
       "      <th>InternetService</th>\n",
       "      <th>OnlineSecurity</th>\n",
       "      <th>OnlineBackup</th>\n",
       "      <th>DeviceProtection</th>\n",
       "      <th>TechSupport</th>\n",
       "      <th>StreamingTV</th>\n",
       "      <th>StreamingMovies</th>\n",
       "      <th>Contract</th>\n",
       "      <th>PaperlessBilling</th>\n",
       "      <th>PaymentMethod</th>\n",
       "      <th>MonthlyCharges</th>\n",
       "      <th>TotalCharges</th>\n",
       "      <th>Churn</th>\n",
       "    </tr>\n",
       "  </thead>\n",
       "  <tbody>\n",
       "    <tr>\n",
       "      <th>0</th>\n",
       "      <td>Female</td>\n",
       "      <td>0</td>\n",
       "      <td>Yes</td>\n",
       "      <td>No</td>\n",
       "      <td>1</td>\n",
       "      <td>No</td>\n",
       "      <td>No phone service</td>\n",
       "      <td>DSL</td>\n",
       "      <td>No</td>\n",
       "      <td>Yes</td>\n",
       "      <td>No</td>\n",
       "      <td>No</td>\n",
       "      <td>No</td>\n",
       "      <td>No</td>\n",
       "      <td>Month-to-month</td>\n",
       "      <td>Yes</td>\n",
       "      <td>Electronic check</td>\n",
       "      <td>29.85</td>\n",
       "      <td>29.85</td>\n",
       "      <td>No</td>\n",
       "    </tr>\n",
       "    <tr>\n",
       "      <th>1</th>\n",
       "      <td>Male</td>\n",
       "      <td>0</td>\n",
       "      <td>No</td>\n",
       "      <td>No</td>\n",
       "      <td>34</td>\n",
       "      <td>Yes</td>\n",
       "      <td>No</td>\n",
       "      <td>DSL</td>\n",
       "      <td>Yes</td>\n",
       "      <td>No</td>\n",
       "      <td>Yes</td>\n",
       "      <td>No</td>\n",
       "      <td>No</td>\n",
       "      <td>No</td>\n",
       "      <td>One year</td>\n",
       "      <td>No</td>\n",
       "      <td>Mailed check</td>\n",
       "      <td>56.95</td>\n",
       "      <td>1889.5</td>\n",
       "      <td>No</td>\n",
       "    </tr>\n",
       "    <tr>\n",
       "      <th>2</th>\n",
       "      <td>Male</td>\n",
       "      <td>0</td>\n",
       "      <td>No</td>\n",
       "      <td>No</td>\n",
       "      <td>2</td>\n",
       "      <td>Yes</td>\n",
       "      <td>No</td>\n",
       "      <td>DSL</td>\n",
       "      <td>Yes</td>\n",
       "      <td>Yes</td>\n",
       "      <td>No</td>\n",
       "      <td>No</td>\n",
       "      <td>No</td>\n",
       "      <td>No</td>\n",
       "      <td>Month-to-month</td>\n",
       "      <td>Yes</td>\n",
       "      <td>Mailed check</td>\n",
       "      <td>53.85</td>\n",
       "      <td>108.15</td>\n",
       "      <td>Yes</td>\n",
       "    </tr>\n",
       "    <tr>\n",
       "      <th>3</th>\n",
       "      <td>Male</td>\n",
       "      <td>0</td>\n",
       "      <td>No</td>\n",
       "      <td>No</td>\n",
       "      <td>45</td>\n",
       "      <td>No</td>\n",
       "      <td>No phone service</td>\n",
       "      <td>DSL</td>\n",
       "      <td>Yes</td>\n",
       "      <td>No</td>\n",
       "      <td>Yes</td>\n",
       "      <td>Yes</td>\n",
       "      <td>No</td>\n",
       "      <td>No</td>\n",
       "      <td>One year</td>\n",
       "      <td>No</td>\n",
       "      <td>Bank transfer (automatic)</td>\n",
       "      <td>42.30</td>\n",
       "      <td>1840.75</td>\n",
       "      <td>No</td>\n",
       "    </tr>\n",
       "    <tr>\n",
       "      <th>4</th>\n",
       "      <td>Female</td>\n",
       "      <td>0</td>\n",
       "      <td>No</td>\n",
       "      <td>No</td>\n",
       "      <td>2</td>\n",
       "      <td>Yes</td>\n",
       "      <td>No</td>\n",
       "      <td>Fiber optic</td>\n",
       "      <td>No</td>\n",
       "      <td>No</td>\n",
       "      <td>No</td>\n",
       "      <td>No</td>\n",
       "      <td>No</td>\n",
       "      <td>No</td>\n",
       "      <td>Month-to-month</td>\n",
       "      <td>Yes</td>\n",
       "      <td>Electronic check</td>\n",
       "      <td>70.70</td>\n",
       "      <td>151.65</td>\n",
       "      <td>Yes</td>\n",
       "    </tr>\n",
       "  </tbody>\n",
       "</table>\n",
       "</div>"
      ],
      "text/plain": [
       "   gender  SeniorCitizen Partner Dependents  tenure PhoneService  \\\n",
       "0  Female              0     Yes         No       1           No   \n",
       "1    Male              0      No         No      34          Yes   \n",
       "2    Male              0      No         No       2          Yes   \n",
       "3    Male              0      No         No      45           No   \n",
       "4  Female              0      No         No       2          Yes   \n",
       "\n",
       "      MultipleLines InternetService OnlineSecurity OnlineBackup  \\\n",
       "0  No phone service             DSL             No          Yes   \n",
       "1                No             DSL            Yes           No   \n",
       "2                No             DSL            Yes          Yes   \n",
       "3  No phone service             DSL            Yes           No   \n",
       "4                No     Fiber optic             No           No   \n",
       "\n",
       "  DeviceProtection TechSupport StreamingTV StreamingMovies        Contract  \\\n",
       "0               No          No          No              No  Month-to-month   \n",
       "1              Yes          No          No              No        One year   \n",
       "2               No          No          No              No  Month-to-month   \n",
       "3              Yes         Yes          No              No        One year   \n",
       "4               No          No          No              No  Month-to-month   \n",
       "\n",
       "  PaperlessBilling              PaymentMethod  MonthlyCharges TotalCharges  \\\n",
       "0              Yes           Electronic check           29.85        29.85   \n",
       "1               No               Mailed check           56.95       1889.5   \n",
       "2              Yes               Mailed check           53.85       108.15   \n",
       "3               No  Bank transfer (automatic)           42.30      1840.75   \n",
       "4              Yes           Electronic check           70.70       151.65   \n",
       "\n",
       "  Churn  \n",
       "0    No  \n",
       "1    No  \n",
       "2   Yes  \n",
       "3    No  \n",
       "4   Yes  "
      ]
     },
     "execution_count": 12,
     "metadata": {},
     "output_type": "execute_result"
    }
   ],
   "source": [
    "# Drop customerID column\n",
    "customer_data = customer_data.drop('customerID', axis=1)\n",
    "customer_data.head(5)"
   ]
  },
  {
   "cell_type": "code",
   "execution_count": 13,
   "metadata": {},
   "outputs": [],
   "source": [
    "# Convert TotalCharges column to numeric as it is detected as object\n",
    "new_col = pd.to_numeric(customer_data.iloc[:, 18], errors='coerce')"
   ]
  },
  {
   "cell_type": "code",
   "execution_count": 17,
   "metadata": {},
   "outputs": [],
   "source": [
    "# Modify our dataframe to reflect the new datatype\n",
    "customer_data.iloc[:, 18] = pd.Series(new_col)\n",
    "#customer_data"
   ]
  },
  {
   "cell_type": "code",
   "execution_count": 15,
   "metadata": {},
   "outputs": [
    {
     "data": {
      "text/plain": [
       "True"
      ]
     },
     "execution_count": 15,
     "metadata": {},
     "output_type": "execute_result"
    }
   ],
   "source": [
    "# Check if we have any NaN values\n",
    "customer_data.isnull().values.any()"
   ]
  },
  {
   "cell_type": "code",
   "execution_count": 18,
   "metadata": {},
   "outputs": [],
   "source": [
    "customer_data = customer_data.fillna(customer_data.mean())"
   ]
  },
  {
   "cell_type": "code",
   "execution_count": 22,
   "metadata": {},
   "outputs": [
    {
     "name": "stdout",
     "output_type": "stream",
     "text": [
      "<class 'pandas.core.frame.DataFrame'>\n",
      "RangeIndex: 7043 entries, 0 to 7042\n",
      "Data columns (total 20 columns):\n",
      " #   Column            Non-Null Count  Dtype  \n",
      "---  ------            --------------  -----  \n",
      " 0   gender            7043 non-null   object \n",
      " 1   SeniorCitizen     7043 non-null   int64  \n",
      " 2   Partner           7043 non-null   object \n",
      " 3   Dependents        7043 non-null   object \n",
      " 4   tenure            7043 non-null   int64  \n",
      " 5   PhoneService      7043 non-null   object \n",
      " 6   MultipleLines     7043 non-null   object \n",
      " 7   InternetService   7043 non-null   object \n",
      " 8   OnlineSecurity    7043 non-null   object \n",
      " 9   OnlineBackup      7043 non-null   object \n",
      " 10  DeviceProtection  7043 non-null   object \n",
      " 11  TechSupport       7043 non-null   object \n",
      " 12  StreamingTV       7043 non-null   object \n",
      " 13  StreamingMovies   7043 non-null   object \n",
      " 14  Contract          7043 non-null   object \n",
      " 15  PaperlessBilling  7043 non-null   object \n",
      " 16  PaymentMethod     7043 non-null   object \n",
      " 17  MonthlyCharges    7043 non-null   float64\n",
      " 18  TotalCharges      7043 non-null   float64\n",
      " 19  Churn             7043 non-null   object \n",
      "dtypes: float64(2), int64(2), object(16)\n",
      "memory usage: 1.1+ MB\n"
     ]
    }
   ],
   "source": [
    "#from sklearn.preprocessing import Imputer\n",
    "#Sklearn 0.22+ :  no more Imputer in preprocessing \n",
    "#from sklearn.impute import SimpleImputer\n",
    "from sklearn.preprocessing import Imputer\n",
    "imp = Imputer(missing_values=\"NaN\", strategy=\"mean\")\n",
    "\n",
    "#customer_data.iloc[:, 18] = imp.fit_transform(customer_data.iloc[:, 18].values.reshape(-1, 1))\n",
    "customer_data.iloc[:, 18] = pd.Series(customer_data.iloc[:, 18])\n",
    "customer_data.isnull().values.any() \n",
    "customer_data.info()"
   ]
  },
  {
   "cell_type": "markdown",
   "metadata": {},
   "source": [
    "## Exploratory Data Analysis\n",
    "\n",
    "We have 2 types of features in the dataset: categorical (two or more values and without any order) and numerical. Most of the feature names are self-explanatory, except for:\n",
    " - Partner: whether the customer has a partner or not (Yes, No),\n",
    " - Dependents: whether the customer has dependents or not (Yes, No),\n",
    " - OnlineBackup: whether the customer has online backup or not (Yes, No, No internet service),\n",
    " - tenure: number of months the customer has stayed with the company,\n",
    " - MonthlyCharges: the amount charged to the customer monthly,\n",
    " - TotalCharges: the total amount charged to the customer.\n",
    " \n",
    "There are 7032 customers in the dataset and 19 features without customerID (non-informative) and Churn column (target variable). Most of the categorical features have 4 or less unique values."
   ]
  },
  {
   "cell_type": "code",
   "execution_count": 23,
   "metadata": {},
   "outputs": [
    {
     "data": {
      "text/html": [
       "<div>\n",
       "<style scoped>\n",
       "    .dataframe tbody tr th:only-of-type {\n",
       "        vertical-align: middle;\n",
       "    }\n",
       "\n",
       "    .dataframe tbody tr th {\n",
       "        vertical-align: top;\n",
       "    }\n",
       "\n",
       "    .dataframe thead th {\n",
       "        text-align: right;\n",
       "    }\n",
       "</style>\n",
       "<table border=\"1\" class=\"dataframe\">\n",
       "  <thead>\n",
       "    <tr style=\"text-align: right;\">\n",
       "      <th></th>\n",
       "      <th>gender</th>\n",
       "      <th>SeniorCitizen</th>\n",
       "      <th>Partner</th>\n",
       "      <th>Dependents</th>\n",
       "      <th>tenure</th>\n",
       "      <th>PhoneService</th>\n",
       "      <th>MultipleLines</th>\n",
       "      <th>InternetService</th>\n",
       "      <th>OnlineSecurity</th>\n",
       "      <th>OnlineBackup</th>\n",
       "      <th>DeviceProtection</th>\n",
       "      <th>TechSupport</th>\n",
       "      <th>StreamingTV</th>\n",
       "      <th>StreamingMovies</th>\n",
       "      <th>Contract</th>\n",
       "      <th>PaperlessBilling</th>\n",
       "      <th>PaymentMethod</th>\n",
       "      <th>MonthlyCharges</th>\n",
       "      <th>TotalCharges</th>\n",
       "      <th>Churn</th>\n",
       "    </tr>\n",
       "  </thead>\n",
       "  <tbody>\n",
       "    <tr>\n",
       "      <th>count</th>\n",
       "      <td>7043</td>\n",
       "      <td>7043.000</td>\n",
       "      <td>7043</td>\n",
       "      <td>7043</td>\n",
       "      <td>7043.000</td>\n",
       "      <td>7043</td>\n",
       "      <td>7043</td>\n",
       "      <td>7043</td>\n",
       "      <td>7043</td>\n",
       "      <td>7043</td>\n",
       "      <td>7043</td>\n",
       "      <td>7043</td>\n",
       "      <td>7043</td>\n",
       "      <td>7043</td>\n",
       "      <td>7043</td>\n",
       "      <td>7043</td>\n",
       "      <td>7043</td>\n",
       "      <td>7043.000</td>\n",
       "      <td>7043.000</td>\n",
       "      <td>7043</td>\n",
       "    </tr>\n",
       "    <tr>\n",
       "      <th>unique</th>\n",
       "      <td>2</td>\n",
       "      <td>NaN</td>\n",
       "      <td>2</td>\n",
       "      <td>2</td>\n",
       "      <td>NaN</td>\n",
       "      <td>2</td>\n",
       "      <td>3</td>\n",
       "      <td>3</td>\n",
       "      <td>3</td>\n",
       "      <td>3</td>\n",
       "      <td>3</td>\n",
       "      <td>3</td>\n",
       "      <td>3</td>\n",
       "      <td>3</td>\n",
       "      <td>3</td>\n",
       "      <td>2</td>\n",
       "      <td>4</td>\n",
       "      <td>NaN</td>\n",
       "      <td>NaN</td>\n",
       "      <td>2</td>\n",
       "    </tr>\n",
       "    <tr>\n",
       "      <th>top</th>\n",
       "      <td>Male</td>\n",
       "      <td>NaN</td>\n",
       "      <td>No</td>\n",
       "      <td>No</td>\n",
       "      <td>NaN</td>\n",
       "      <td>Yes</td>\n",
       "      <td>No</td>\n",
       "      <td>Fiber optic</td>\n",
       "      <td>No</td>\n",
       "      <td>No</td>\n",
       "      <td>No</td>\n",
       "      <td>No</td>\n",
       "      <td>No</td>\n",
       "      <td>No</td>\n",
       "      <td>Month-to-month</td>\n",
       "      <td>Yes</td>\n",
       "      <td>Electronic check</td>\n",
       "      <td>NaN</td>\n",
       "      <td>NaN</td>\n",
       "      <td>No</td>\n",
       "    </tr>\n",
       "    <tr>\n",
       "      <th>freq</th>\n",
       "      <td>3555</td>\n",
       "      <td>NaN</td>\n",
       "      <td>3641</td>\n",
       "      <td>4933</td>\n",
       "      <td>NaN</td>\n",
       "      <td>6361</td>\n",
       "      <td>3390</td>\n",
       "      <td>3096</td>\n",
       "      <td>3498</td>\n",
       "      <td>3088</td>\n",
       "      <td>3095</td>\n",
       "      <td>3473</td>\n",
       "      <td>2810</td>\n",
       "      <td>2785</td>\n",
       "      <td>3875</td>\n",
       "      <td>4171</td>\n",
       "      <td>2365</td>\n",
       "      <td>NaN</td>\n",
       "      <td>NaN</td>\n",
       "      <td>5174</td>\n",
       "    </tr>\n",
       "    <tr>\n",
       "      <th>mean</th>\n",
       "      <td>NaN</td>\n",
       "      <td>0.162</td>\n",
       "      <td>NaN</td>\n",
       "      <td>NaN</td>\n",
       "      <td>32.371</td>\n",
       "      <td>NaN</td>\n",
       "      <td>NaN</td>\n",
       "      <td>NaN</td>\n",
       "      <td>NaN</td>\n",
       "      <td>NaN</td>\n",
       "      <td>NaN</td>\n",
       "      <td>NaN</td>\n",
       "      <td>NaN</td>\n",
       "      <td>NaN</td>\n",
       "      <td>NaN</td>\n",
       "      <td>NaN</td>\n",
       "      <td>NaN</td>\n",
       "      <td>64.762</td>\n",
       "      <td>2283.300</td>\n",
       "      <td>NaN</td>\n",
       "    </tr>\n",
       "    <tr>\n",
       "      <th>std</th>\n",
       "      <td>NaN</td>\n",
       "      <td>0.369</td>\n",
       "      <td>NaN</td>\n",
       "      <td>NaN</td>\n",
       "      <td>24.559</td>\n",
       "      <td>NaN</td>\n",
       "      <td>NaN</td>\n",
       "      <td>NaN</td>\n",
       "      <td>NaN</td>\n",
       "      <td>NaN</td>\n",
       "      <td>NaN</td>\n",
       "      <td>NaN</td>\n",
       "      <td>NaN</td>\n",
       "      <td>NaN</td>\n",
       "      <td>NaN</td>\n",
       "      <td>NaN</td>\n",
       "      <td>NaN</td>\n",
       "      <td>30.090</td>\n",
       "      <td>2265.000</td>\n",
       "      <td>NaN</td>\n",
       "    </tr>\n",
       "    <tr>\n",
       "      <th>min</th>\n",
       "      <td>NaN</td>\n",
       "      <td>0.000</td>\n",
       "      <td>NaN</td>\n",
       "      <td>NaN</td>\n",
       "      <td>0.000</td>\n",
       "      <td>NaN</td>\n",
       "      <td>NaN</td>\n",
       "      <td>NaN</td>\n",
       "      <td>NaN</td>\n",
       "      <td>NaN</td>\n",
       "      <td>NaN</td>\n",
       "      <td>NaN</td>\n",
       "      <td>NaN</td>\n",
       "      <td>NaN</td>\n",
       "      <td>NaN</td>\n",
       "      <td>NaN</td>\n",
       "      <td>NaN</td>\n",
       "      <td>18.250</td>\n",
       "      <td>18.800</td>\n",
       "      <td>NaN</td>\n",
       "    </tr>\n",
       "    <tr>\n",
       "      <th>25%</th>\n",
       "      <td>NaN</td>\n",
       "      <td>0.000</td>\n",
       "      <td>NaN</td>\n",
       "      <td>NaN</td>\n",
       "      <td>9.000</td>\n",
       "      <td>NaN</td>\n",
       "      <td>NaN</td>\n",
       "      <td>NaN</td>\n",
       "      <td>NaN</td>\n",
       "      <td>NaN</td>\n",
       "      <td>NaN</td>\n",
       "      <td>NaN</td>\n",
       "      <td>NaN</td>\n",
       "      <td>NaN</td>\n",
       "      <td>NaN</td>\n",
       "      <td>NaN</td>\n",
       "      <td>NaN</td>\n",
       "      <td>35.500</td>\n",
       "      <td>402.225</td>\n",
       "      <td>NaN</td>\n",
       "    </tr>\n",
       "    <tr>\n",
       "      <th>50%</th>\n",
       "      <td>NaN</td>\n",
       "      <td>0.000</td>\n",
       "      <td>NaN</td>\n",
       "      <td>NaN</td>\n",
       "      <td>29.000</td>\n",
       "      <td>NaN</td>\n",
       "      <td>NaN</td>\n",
       "      <td>NaN</td>\n",
       "      <td>NaN</td>\n",
       "      <td>NaN</td>\n",
       "      <td>NaN</td>\n",
       "      <td>NaN</td>\n",
       "      <td>NaN</td>\n",
       "      <td>NaN</td>\n",
       "      <td>NaN</td>\n",
       "      <td>NaN</td>\n",
       "      <td>NaN</td>\n",
       "      <td>70.350</td>\n",
       "      <td>1400.550</td>\n",
       "      <td>NaN</td>\n",
       "    </tr>\n",
       "    <tr>\n",
       "      <th>75%</th>\n",
       "      <td>NaN</td>\n",
       "      <td>0.000</td>\n",
       "      <td>NaN</td>\n",
       "      <td>NaN</td>\n",
       "      <td>55.000</td>\n",
       "      <td>NaN</td>\n",
       "      <td>NaN</td>\n",
       "      <td>NaN</td>\n",
       "      <td>NaN</td>\n",
       "      <td>NaN</td>\n",
       "      <td>NaN</td>\n",
       "      <td>NaN</td>\n",
       "      <td>NaN</td>\n",
       "      <td>NaN</td>\n",
       "      <td>NaN</td>\n",
       "      <td>NaN</td>\n",
       "      <td>NaN</td>\n",
       "      <td>89.850</td>\n",
       "      <td>3786.600</td>\n",
       "      <td>NaN</td>\n",
       "    </tr>\n",
       "    <tr>\n",
       "      <th>max</th>\n",
       "      <td>NaN</td>\n",
       "      <td>1.000</td>\n",
       "      <td>NaN</td>\n",
       "      <td>NaN</td>\n",
       "      <td>72.000</td>\n",
       "      <td>NaN</td>\n",
       "      <td>NaN</td>\n",
       "      <td>NaN</td>\n",
       "      <td>NaN</td>\n",
       "      <td>NaN</td>\n",
       "      <td>NaN</td>\n",
       "      <td>NaN</td>\n",
       "      <td>NaN</td>\n",
       "      <td>NaN</td>\n",
       "      <td>NaN</td>\n",
       "      <td>NaN</td>\n",
       "      <td>NaN</td>\n",
       "      <td>118.750</td>\n",
       "      <td>8684.800</td>\n",
       "      <td>NaN</td>\n",
       "    </tr>\n",
       "  </tbody>\n",
       "</table>\n",
       "</div>"
      ],
      "text/plain": [
       "       gender  SeniorCitizen Partner Dependents    tenure PhoneService  \\\n",
       "count    7043       7043.000    7043       7043  7043.000         7043   \n",
       "unique      2            NaN       2          2       NaN            2   \n",
       "top      Male            NaN      No         No       NaN          Yes   \n",
       "freq     3555            NaN    3641       4933       NaN         6361   \n",
       "mean      NaN          0.162     NaN        NaN    32.371          NaN   \n",
       "std       NaN          0.369     NaN        NaN    24.559          NaN   \n",
       "min       NaN          0.000     NaN        NaN     0.000          NaN   \n",
       "25%       NaN          0.000     NaN        NaN     9.000          NaN   \n",
       "50%       NaN          0.000     NaN        NaN    29.000          NaN   \n",
       "75%       NaN          0.000     NaN        NaN    55.000          NaN   \n",
       "max       NaN          1.000     NaN        NaN    72.000          NaN   \n",
       "\n",
       "       MultipleLines InternetService OnlineSecurity OnlineBackup  \\\n",
       "count           7043            7043           7043         7043   \n",
       "unique             3               3              3            3   \n",
       "top               No     Fiber optic             No           No   \n",
       "freq            3390            3096           3498         3088   \n",
       "mean             NaN             NaN            NaN          NaN   \n",
       "std              NaN             NaN            NaN          NaN   \n",
       "min              NaN             NaN            NaN          NaN   \n",
       "25%              NaN             NaN            NaN          NaN   \n",
       "50%              NaN             NaN            NaN          NaN   \n",
       "75%              NaN             NaN            NaN          NaN   \n",
       "max              NaN             NaN            NaN          NaN   \n",
       "\n",
       "       DeviceProtection TechSupport StreamingTV StreamingMovies  \\\n",
       "count              7043        7043        7043            7043   \n",
       "unique                3           3           3               3   \n",
       "top                  No          No          No              No   \n",
       "freq               3095        3473        2810            2785   \n",
       "mean                NaN         NaN         NaN             NaN   \n",
       "std                 NaN         NaN         NaN             NaN   \n",
       "min                 NaN         NaN         NaN             NaN   \n",
       "25%                 NaN         NaN         NaN             NaN   \n",
       "50%                 NaN         NaN         NaN             NaN   \n",
       "75%                 NaN         NaN         NaN             NaN   \n",
       "max                 NaN         NaN         NaN             NaN   \n",
       "\n",
       "              Contract PaperlessBilling     PaymentMethod  MonthlyCharges  \\\n",
       "count             7043             7043              7043        7043.000   \n",
       "unique               3                2                 4             NaN   \n",
       "top     Month-to-month              Yes  Electronic check             NaN   \n",
       "freq              3875             4171              2365             NaN   \n",
       "mean               NaN              NaN               NaN          64.762   \n",
       "std                NaN              NaN               NaN          30.090   \n",
       "min                NaN              NaN               NaN          18.250   \n",
       "25%                NaN              NaN               NaN          35.500   \n",
       "50%                NaN              NaN               NaN          70.350   \n",
       "75%                NaN              NaN               NaN          89.850   \n",
       "max                NaN              NaN               NaN         118.750   \n",
       "\n",
       "        TotalCharges Churn  \n",
       "count       7043.000  7043  \n",
       "unique           NaN     2  \n",
       "top              NaN    No  \n",
       "freq             NaN  5174  \n",
       "mean        2283.300   NaN  \n",
       "std         2265.000   NaN  \n",
       "min           18.800   NaN  \n",
       "25%          402.225   NaN  \n",
       "50%         1400.550   NaN  \n",
       "75%         3786.600   NaN  \n",
       "max         8684.800   NaN  "
      ]
     },
     "execution_count": 23,
     "metadata": {},
     "output_type": "execute_result"
    }
   ],
   "source": [
    "df=customer_data\n",
    "df.describe(include='all')"
   ]
  },
  {
   "cell_type": "code",
   "execution_count": 24,
   "metadata": {},
   "outputs": [],
   "source": [
    "categorical_features = [\n",
    "    \"gender\",\n",
    "    \"SeniorCitizen\",\n",
    "    \"Partner\",\n",
    "    \"Dependents\",\n",
    "    \"PhoneService\",\n",
    "    \"MultipleLines\",\n",
    "    \"InternetService\",\n",
    "    \"OnlineSecurity\",\n",
    "    \"OnlineBackup\",\n",
    "    \"DeviceProtection\",\n",
    "    \"TechSupport\",\n",
    "    \"StreamingTV\",\n",
    "    \"StreamingMovies\",\n",
    "    \"Contract\",\n",
    "    \"PaperlessBilling\",\n",
    "    \"PaymentMethod\",\n",
    "]\n",
    "numerical_features = [\"tenure\", \"MonthlyCharges\", \"TotalCharges\"]\n",
    "target = \"Churn\""
   ]
  },
  {
   "cell_type": "markdown",
   "metadata": {},
   "source": [
    "### Feature distribution"
   ]
  },
  {
   "cell_type": "code",
   "execution_count": 25,
   "metadata": {},
   "outputs": [
    {
     "data": {
      "text/plain": [
       "array([[<matplotlib.axes._subplots.AxesSubplot object at 0x700000403936160>,\n",
       "        <matplotlib.axes._subplots.AxesSubplot object at 0x700000403d0c390>],\n",
       "       [<matplotlib.axes._subplots.AxesSubplot object at 0x700000404160588>,\n",
       "        <matplotlib.axes._subplots.AxesSubplot object at 0x700000403c3b630>]],\n",
       "      dtype=object)"
      ]
     },
     "execution_count": 25,
     "metadata": {},
     "output_type": "execute_result"
    },
    {
     "data": {
      "image/png": "[encoded data removed]",
      "text/plain": [
       "<Figure size 720x504 with 4 Axes>"
      ]
     },
     "metadata": {
      "needs_background": "light"
     },
     "output_type": "display_data"
    }
   ],
   "source": [
    "df[numerical_features].hist(bins=30, figsize=(10, 7))"
   ]
  },
  {
   "cell_type": "code",
   "execution_count": 26,
   "metadata": {},
   "outputs": [
    {
     "data": {
      "text/plain": [
       "array([<matplotlib.axes._subplots.AxesSubplot object at 0x700000404a77908>,\n",
       "       <matplotlib.axes._subplots.AxesSubplot object at 0x700000404930828>,\n",
       "       <matplotlib.axes._subplots.AxesSubplot object at 0x7000004049153c8>],\n",
       "      dtype=object)"
      ]
     },
     "execution_count": 26,
     "metadata": {},
     "output_type": "execute_result"
    },
    {
     "data": {
      "image/png": "[encoded data removed]",
      "text/plain": [
       "<Figure size 1008x288 with 3 Axes>"
      ]
     },
     "metadata": {
      "needs_background": "light"
     },
     "output_type": "display_data"
    }
   ],
   "source": [
    "fig, ax = plt.subplots(1, 3, figsize=(14, 4))\n",
    "df[df.Churn == \"No\"][numerical_features].hist(bins=30, color=\"blue\", alpha=0.5, ax=ax)\n",
    "df[df.Churn == \"Yes\"][numerical_features].hist(bins=30, color=\"red\", alpha=0.5, ax=ax)"
   ]
  },
  {
   "cell_type": "markdown",
   "metadata": {},
   "source": [
    "#### Categorical feature distribution\n",
    "\n",
    "To analyze categorical features, we use bar charts. We observe that Senior citizens and customers without phone service are less represented in the data."
   ]
  },
  {
   "cell_type": "code",
   "execution_count": 28,
   "metadata": {},
   "outputs": [
    {
     "data": {
      "image/png": "[encoded data removed]",
      "text/plain": [
       "<Figure size 1296x1296 with 16 Axes>"
      ]
     },
     "metadata": {
      "needs_background": "light"
     },
     "output_type": "display_data"
    }
   ],
   "source": [
    "ROWS, COLS = 4, 4\n",
    "fig, ax = plt.subplots(ROWS, COLS, figsize=(18, 18))\n",
    "row, col = 0, 0\n",
    "for i, categorical_feature in enumerate(categorical_features):\n",
    "    if col == COLS - 1:\n",
    "        row += 1\n",
    "    col = i % COLS\n",
    "    df[categorical_feature].value_counts().plot(kind='bar', ax=ax[row, col]).set_title(categorical_feature)"
   ]
  },
  {
   "cell_type": "code",
   "execution_count": 30,
   "metadata": {},
   "outputs": [
    {
     "data": {
      "text/plain": [
       "Text(0.5, 1.0, 'churned')"
      ]
     },
     "execution_count": 30,
     "metadata": {},
     "output_type": "execute_result"
    },
    {
     "data": {
      "image/png": "[encoded data removed]",
      "text/plain": [
       "<Figure size 1008x288 with 2 Axes>"
      ]
     },
     "metadata": {
      "needs_background": "light"
     },
     "output_type": "display_data"
    }
   ],
   "source": [
    "feature = 'Contract'\n",
    "fig, ax = plt.subplots(1, 2, figsize=(14, 4))\n",
    "df[df.Churn == \"No\"][feature].value_counts().plot(kind='bar', ax=ax[0]).set_title('not churned')\n",
    "df[df.Churn == \"Yes\"][feature].value_counts().plot(kind='bar', ax=ax[1]).set_title('churned')"
   ]
  },
  {
   "cell_type": "markdown",
   "metadata": {},
   "source": [
    "#### Target variable distribution\n",
    "Target variable distribution shows that we are dealing with an imbalanced problem as there are many more non-churned as churned users. The model would achieve high accuracy as it would mostly predict majority class - users who didn't churn in our example."
   ]
  },
  {
   "cell_type": "code",
   "execution_count": 32,
   "metadata": {},
   "outputs": [
    {
     "data": {
      "text/plain": [
       "Text(0.5, 1.0, 'churned')"
      ]
     },
     "execution_count": 32,
     "metadata": {},
     "output_type": "execute_result"
    },
    {
     "data": {
      "image/png": "[encoded data removed]",
      "text/plain": [
       "<Figure size 432x288 with 1 Axes>"
      ]
     },
     "metadata": {
      "needs_background": "light"
     },
     "output_type": "display_data"
    }
   ],
   "source": [
    "df[target].value_counts().plot(kind='bar').set_title('churned')"
   ]
  },
  {
   "cell_type": "markdown",
   "metadata": {},
   "source": [
    "### Plot Relationships"
   ]
  },
  {
   "cell_type": "code",
   "execution_count": 33,
   "metadata": {},
   "outputs": [
    {
     "data": {
      "image/png": "[encoded data removed]",
      "text/plain": [
       "<Figure size 1440x720 with 1 Axes>"
      ]
     },
     "metadata": {},
     "output_type": "display_data"
    }
   ],
   "source": [
    "# Plot Tenure Frequency count\n",
    "sns.set(style=\"darkgrid\")\n",
    "sns.set_palette(\"hls\", 3)\n",
    "fig, ax = plt.subplots(figsize=(20,10))\n",
    "ax = sns.countplot(x=\"tenure\", hue=\"Churn\", data=customer_data)"
   ]
  },
  {
   "cell_type": "code",
   "execution_count": 34,
   "metadata": {},
   "outputs": [
    {
     "data": {
      "image/png": "[encoded data removed]",
      "text/plain": [
       "<Figure size 1440x720 with 1 Axes>"
      ]
     },
     "metadata": {},
     "output_type": "display_data"
    }
   ],
   "source": [
    "#Contract\n",
    "sns.set(style=\"darkgrid\")\n",
    "sns.set_palette(\"hls\", 3)\n",
    "fig, ax = plt.subplots(figsize=(20,10))\n",
    "ax = sns.countplot(x=\"Contract\", hue=\"Churn\", data=customer_data)"
   ]
  },
  {
   "cell_type": "code",
   "execution_count": 35,
   "metadata": {},
   "outputs": [
    {
     "data": {
      "image/png": "[encoded data removed]",
      "text/plain": [
       "<Figure size 1440x720 with 1 Axes>"
      ]
     },
     "metadata": {},
     "output_type": "display_data"
    }
   ],
   "source": [
    "# Plot TechSupport Frequency count\n",
    "sns.set(style=\"darkgrid\")\n",
    "sns.set_palette(\"hls\", 3)\n",
    "fig, ax = plt.subplots(figsize=(20,10))\n",
    "ax = sns.countplot(x=\"TechSupport\", hue=\"Churn\", data=customer_data)\n"
   ]
  },
  {
   "cell_type": "code",
   "execution_count": 26,
   "metadata": {},
   "outputs": [],
   "source": [
    "# Create Grid for pairwise relationships\n",
    "# allows us to see both distribution of single variables and relationships between two variables.\n",
    "##gr = sns.PairGrid(customer_data, height=5, hue=\"Churn\")\n",
    "##gr = gr.map_diag(plt.hist)\n",
    "##gr = gr.map_offdiag(plt.scatter)\n",
    "##gr = gr.add_legend()"
   ]
  },
  {
   "cell_type": "code",
   "execution_count": 27,
   "metadata": {},
   "outputs": [],
   "source": [
    "# Set up plot size\n",
    "##fig, ax = plt.subplots(figsize=(6,6))\n",
    "\n",
    "# Attributes distribution\n",
    "#a = sns.boxplot(orient=\"v\", palette=\"hls\", data=customer_data.iloc[:, 18], fliersize=14)"
   ]
  },
  {
   "cell_type": "code",
   "execution_count": 28,
   "metadata": {},
   "outputs": [],
   "source": [
    "# Tenure data distribution\n",
    "##histogram = sns.distplot(customer_data.iloc[:, 4], hist=True)\n",
    "##plt.show()\n"
   ]
  },
  {
   "cell_type": "code",
   "execution_count": 38,
   "metadata": {},
   "outputs": [
    {
     "name": "stderr",
     "output_type": "stream",
     "text": [
      "/QOpenSys/pkgs/lib/python3.6/site-packages/seaborn/distributions.py:2619: FutureWarning: `distplot` is a deprecated function and will be removed in a future version. Please adapt your code to use either `displot` (a figure-level function with similar flexibility) or `histplot` (an axes-level function for histograms).\n",
      "  warnings.warn(msg, FutureWarning)\n"
     ]
    },
    {
     "data": {
      "image/png": "[encoded data removed]",
      "text/plain": [
       "<Figure size 432x288 with 1 Axes>"
      ]
     },
     "metadata": {},
     "output_type": "display_data"
    }
   ],
   "source": [
    "# Monthly Charges data distribution\n",
    "histogram = sns.distplot(customer_data.iloc[:, 17], hist=True)\n",
    "plt.show()"
   ]
  },
  {
   "cell_type": "markdown",
   "metadata": {},
   "source": [
    "## Encoding features\n",
    "To prepare the dataset for modeling churn, we need to encode categorical features to numbers. This means encoding \"Yes\", \"No\" to 0 and 1 so that algorithm can work with the data. This process is called onehot encoding."
   ]
  },
  {
   "cell_type": "code",
   "execution_count": 39,
   "metadata": {},
   "outputs": [
    {
     "data": {
      "text/html": [
       "<div>\n",
       "<style scoped>\n",
       "    .dataframe tbody tr th:only-of-type {\n",
       "        vertical-align: middle;\n",
       "    }\n",
       "\n",
       "    .dataframe tbody tr th {\n",
       "        vertical-align: top;\n",
       "    }\n",
       "\n",
       "    .dataframe thead th {\n",
       "        text-align: right;\n",
       "    }\n",
       "</style>\n",
       "<table border=\"1\" class=\"dataframe\">\n",
       "  <thead>\n",
       "    <tr style=\"text-align: right;\">\n",
       "      <th></th>\n",
       "      <th>0</th>\n",
       "    </tr>\n",
       "  </thead>\n",
       "  <tbody>\n",
       "    <tr>\n",
       "      <th>0</th>\n",
       "      <td>0</td>\n",
       "    </tr>\n",
       "    <tr>\n",
       "      <th>1</th>\n",
       "      <td>0</td>\n",
       "    </tr>\n",
       "    <tr>\n",
       "      <th>2</th>\n",
       "      <td>1</td>\n",
       "    </tr>\n",
       "    <tr>\n",
       "      <th>3</th>\n",
       "      <td>0</td>\n",
       "    </tr>\n",
       "    <tr>\n",
       "      <th>4</th>\n",
       "      <td>1</td>\n",
       "    </tr>\n",
       "  </tbody>\n",
       "</table>\n",
       "</div>"
      ],
      "text/plain": [
       "   0\n",
       "0  0\n",
       "1  0\n",
       "2  1\n",
       "3  0\n",
       "4  1"
      ]
     },
     "execution_count": 39,
     "metadata": {},
     "output_type": "execute_result"
    }
   ],
   "source": [
    "from sklearn.preprocessing import LabelEncoder\n",
    "\n",
    "pd.set_option('precision', 3)\n",
    "##customer_data.describe()\n",
    "##customer_data.describe(exclude=np.number)\n",
    "##customer_data.corr(method='pearson')\n",
    "##display(customer_data)\n",
    "\n",
    "customer_data_encoded = pd.get_dummies(customer_data)\n",
    "customer_data_encoded.head(10)\n",
    "\n",
    "# Create training data for non-preprocessed approach\n",
    "X_npp = customer_data.iloc[:, :-1].apply(LabelEncoder().fit_transform)\n",
    "pd.DataFrame(X_npp).head(5)\n",
    "\n",
    "# Create training data for that will undergo preprocessing\n",
    "X = customer_data_encoded.iloc[:, :-2]\n",
    "X.head(5)\n",
    "\n",
    "# Extract labels\n",
    "y_unenc = customer_data['Churn']\n",
    "\n",
    "# Convert strings of 'yes' and 'no' to binary values of 0 or 1\n",
    "le = LabelEncoder()\n",
    "le.fit(y_unenc)\n",
    "\n",
    "y_le = le.transform(y_unenc)\n",
    "pd.DataFrame(y_le).head(5)\n",
    "\n"
   ]
  },
  {
   "cell_type": "markdown",
   "metadata": {},
   "source": [
    "## Outlier Detection\n",
    "Anomalies, wrong data in the dataset?"
   ]
  },
  {
   "cell_type": "code",
   "execution_count": 40,
   "metadata": {},
   "outputs": [
    {
     "name": "stdout",
     "output_type": "stream",
     "text": [
      "False\n"
     ]
    }
   ],
   "source": [
    "# Calculate the Z-score using median value and median absolute deviation for more robust calculations\n",
    "# Working on Monthly Charges column\n",
    "threshold = 3\n",
    "\n",
    "median = np.median(X['MonthlyCharges'])\n",
    "median_absolute_deviation = np.median([np.abs(x - median) for x in X['MonthlyCharges']])\n",
    "modified_z_scores = [0.6745 * (x - median) / median_absolute_deviation\n",
    "                         for x in X['MonthlyCharges']]\n",
    "results = np.abs(modified_z_scores) > threshold\n",
    "\n",
    "print(np.any(results))"
   ]
  },
  {
   "cell_type": "code",
   "execution_count": 41,
   "metadata": {},
   "outputs": [
    {
     "name": "stdout",
     "output_type": "stream",
     "text": [
      "(array([], dtype=int64),)\n"
     ]
    }
   ],
   "source": [
    "# Do the same for Total Charges column but using the interquartile method\n",
    "\n",
    "quartile_1, quartile_3 = np.percentile(X['TotalCharges'], [25, 75])\n",
    "iqr = quartile_3 - quartile_1\n",
    "lower_bound = quartile_1 - (iqr * 1.5)\n",
    "upper_bound = quartile_3 + (iqr * 1.5)\n",
    "\n",
    "print(np.where((X['TotalCharges'] > upper_bound) | (X['TotalCharges'] < lower_bound)))\n"
   ]
  },
  {
   "cell_type": "markdown",
   "metadata": {},
   "source": [
    "## Feature Engineering"
   ]
  },
  {
   "cell_type": "code",
   "execution_count": 42,
   "metadata": {},
   "outputs": [
    {
     "data": {
      "text/html": [
       "<div>\n",
       "<style scoped>\n",
       "    .dataframe tbody tr th:only-of-type {\n",
       "        vertical-align: middle;\n",
       "    }\n",
       "\n",
       "    .dataframe tbody tr th {\n",
       "        vertical-align: top;\n",
       "    }\n",
       "\n",
       "    .dataframe thead th {\n",
       "        text-align: right;\n",
       "    }\n",
       "</style>\n",
       "<table border=\"1\" class=\"dataframe\">\n",
       "  <thead>\n",
       "    <tr style=\"text-align: right;\">\n",
       "      <th></th>\n",
       "      <th>tenure</th>\n",
       "      <th>OnlineSecurity_No</th>\n",
       "      <th>TechSupport_No</th>\n",
       "      <th>Contract_Month-to-month</th>\n",
       "      <th>MonthlyCharges_OnlineSecurity_No</th>\n",
       "      <th>MonthlyCharges_TechSupport_No</th>\n",
       "      <th>MonthlyCharges_Contract_Month-to-month</th>\n",
       "      <th>Dependents_No_OnlineSecurity_No</th>\n",
       "      <th>Dependents_No_TechSupport_No</th>\n",
       "      <th>Dependents_No_Contract_Month-to-month</th>\n",
       "      <th>PhoneService_Yes_Contract_Month-to-month</th>\n",
       "      <th>InternetService_Fiber optic_OnlineSecurity_No</th>\n",
       "      <th>InternetService_Fiber optic_TechSupport_No</th>\n",
       "      <th>InternetService_Fiber optic_Contract_Month-to-month</th>\n",
       "      <th>InternetService_Fiber optic_PaymentMethod_Electronic check</th>\n",
       "      <th>OnlineSecurity_No_OnlineBackup_No</th>\n",
       "      <th>OnlineSecurity_No_TechSupport_No</th>\n",
       "      <th>OnlineSecurity_No_Contract_Month-to-month</th>\n",
       "      <th>OnlineSecurity_No_PaymentMethod_Electronic check</th>\n",
       "      <th>OnlineBackup_No_Contract_Month-to-month</th>\n",
       "      <th>DeviceProtection_No_Contract_Month-to-month</th>\n",
       "      <th>TechSupport_No_Contract_Month-to-month</th>\n",
       "      <th>TechSupport_No_PaymentMethod_Electronic check</th>\n",
       "      <th>Contract_Month-to-month_PaperlessBilling_Yes</th>\n",
       "      <th>Contract_Month-to-month_PaymentMethod_Electronic check</th>\n",
       "    </tr>\n",
       "  </thead>\n",
       "  <tbody>\n",
       "    <tr>\n",
       "      <th>0</th>\n",
       "      <td>1.0</td>\n",
       "      <td>1.0</td>\n",
       "      <td>1.0</td>\n",
       "      <td>1.0</td>\n",
       "      <td>29.85</td>\n",
       "      <td>29.85</td>\n",
       "      <td>29.85</td>\n",
       "      <td>1.0</td>\n",
       "      <td>1.0</td>\n",
       "      <td>1.0</td>\n",
       "      <td>0.0</td>\n",
       "      <td>0.0</td>\n",
       "      <td>0.0</td>\n",
       "      <td>0.0</td>\n",
       "      <td>0.0</td>\n",
       "      <td>0.0</td>\n",
       "      <td>1.0</td>\n",
       "      <td>1.0</td>\n",
       "      <td>1.0</td>\n",
       "      <td>0.0</td>\n",
       "      <td>1.0</td>\n",
       "      <td>1.0</td>\n",
       "      <td>1.0</td>\n",
       "      <td>1.0</td>\n",
       "      <td>1.0</td>\n",
       "    </tr>\n",
       "    <tr>\n",
       "      <th>1</th>\n",
       "      <td>34.0</td>\n",
       "      <td>0.0</td>\n",
       "      <td>1.0</td>\n",
       "      <td>0.0</td>\n",
       "      <td>0.00</td>\n",
       "      <td>56.95</td>\n",
       "      <td>0.00</td>\n",
       "      <td>0.0</td>\n",
       "      <td>1.0</td>\n",
       "      <td>0.0</td>\n",
       "      <td>0.0</td>\n",
       "      <td>0.0</td>\n",
       "      <td>0.0</td>\n",
       "      <td>0.0</td>\n",
       "      <td>0.0</td>\n",
       "      <td>0.0</td>\n",
       "      <td>0.0</td>\n",
       "      <td>0.0</td>\n",
       "      <td>0.0</td>\n",
       "      <td>0.0</td>\n",
       "      <td>0.0</td>\n",
       "      <td>0.0</td>\n",
       "      <td>0.0</td>\n",
       "      <td>0.0</td>\n",
       "      <td>0.0</td>\n",
       "    </tr>\n",
       "    <tr>\n",
       "      <th>2</th>\n",
       "      <td>2.0</td>\n",
       "      <td>0.0</td>\n",
       "      <td>1.0</td>\n",
       "      <td>1.0</td>\n",
       "      <td>0.00</td>\n",
       "      <td>53.85</td>\n",
       "      <td>53.85</td>\n",
       "      <td>0.0</td>\n",
       "      <td>1.0</td>\n",
       "      <td>1.0</td>\n",
       "      <td>1.0</td>\n",
       "      <td>0.0</td>\n",
       "      <td>0.0</td>\n",
       "      <td>0.0</td>\n",
       "      <td>0.0</td>\n",
       "      <td>0.0</td>\n",
       "      <td>0.0</td>\n",
       "      <td>0.0</td>\n",
       "      <td>0.0</td>\n",
       "      <td>0.0</td>\n",
       "      <td>1.0</td>\n",
       "      <td>1.0</td>\n",
       "      <td>0.0</td>\n",
       "      <td>1.0</td>\n",
       "      <td>0.0</td>\n",
       "    </tr>\n",
       "    <tr>\n",
       "      <th>3</th>\n",
       "      <td>45.0</td>\n",
       "      <td>0.0</td>\n",
       "      <td>0.0</td>\n",
       "      <td>0.0</td>\n",
       "      <td>0.00</td>\n",
       "      <td>0.00</td>\n",
       "      <td>0.00</td>\n",
       "      <td>0.0</td>\n",
       "      <td>0.0</td>\n",
       "      <td>0.0</td>\n",
       "      <td>0.0</td>\n",
       "      <td>0.0</td>\n",
       "      <td>0.0</td>\n",
       "      <td>0.0</td>\n",
       "      <td>0.0</td>\n",
       "      <td>0.0</td>\n",
       "      <td>0.0</td>\n",
       "      <td>0.0</td>\n",
       "      <td>0.0</td>\n",
       "      <td>0.0</td>\n",
       "      <td>0.0</td>\n",
       "      <td>0.0</td>\n",
       "      <td>0.0</td>\n",
       "      <td>0.0</td>\n",
       "      <td>0.0</td>\n",
       "    </tr>\n",
       "    <tr>\n",
       "      <th>4</th>\n",
       "      <td>2.0</td>\n",
       "      <td>1.0</td>\n",
       "      <td>1.0</td>\n",
       "      <td>1.0</td>\n",
       "      <td>70.70</td>\n",
       "      <td>70.70</td>\n",
       "      <td>70.70</td>\n",
       "      <td>1.0</td>\n",
       "      <td>1.0</td>\n",
       "      <td>1.0</td>\n",
       "      <td>1.0</td>\n",
       "      <td>1.0</td>\n",
       "      <td>1.0</td>\n",
       "      <td>1.0</td>\n",
       "      <td>1.0</td>\n",
       "      <td>1.0</td>\n",
       "      <td>1.0</td>\n",
       "      <td>1.0</td>\n",
       "      <td>1.0</td>\n",
       "      <td>1.0</td>\n",
       "      <td>1.0</td>\n",
       "      <td>1.0</td>\n",
       "      <td>1.0</td>\n",
       "      <td>1.0</td>\n",
       "      <td>1.0</td>\n",
       "    </tr>\n",
       "    <tr>\n",
       "      <th>5</th>\n",
       "      <td>8.0</td>\n",
       "      <td>1.0</td>\n",
       "      <td>1.0</td>\n",
       "      <td>1.0</td>\n",
       "      <td>99.65</td>\n",
       "      <td>99.65</td>\n",
       "      <td>99.65</td>\n",
       "      <td>1.0</td>\n",
       "      <td>1.0</td>\n",
       "      <td>1.0</td>\n",
       "      <td>1.0</td>\n",
       "      <td>1.0</td>\n",
       "      <td>1.0</td>\n",
       "      <td>1.0</td>\n",
       "      <td>1.0</td>\n",
       "      <td>1.0</td>\n",
       "      <td>1.0</td>\n",
       "      <td>1.0</td>\n",
       "      <td>1.0</td>\n",
       "      <td>1.0</td>\n",
       "      <td>0.0</td>\n",
       "      <td>1.0</td>\n",
       "      <td>1.0</td>\n",
       "      <td>1.0</td>\n",
       "      <td>1.0</td>\n",
       "    </tr>\n",
       "    <tr>\n",
       "      <th>6</th>\n",
       "      <td>22.0</td>\n",
       "      <td>1.0</td>\n",
       "      <td>1.0</td>\n",
       "      <td>1.0</td>\n",
       "      <td>89.10</td>\n",
       "      <td>89.10</td>\n",
       "      <td>89.10</td>\n",
       "      <td>0.0</td>\n",
       "      <td>0.0</td>\n",
       "      <td>0.0</td>\n",
       "      <td>1.0</td>\n",
       "      <td>1.0</td>\n",
       "      <td>1.0</td>\n",
       "      <td>1.0</td>\n",
       "      <td>0.0</td>\n",
       "      <td>0.0</td>\n",
       "      <td>1.0</td>\n",
       "      <td>1.0</td>\n",
       "      <td>0.0</td>\n",
       "      <td>0.0</td>\n",
       "      <td>1.0</td>\n",
       "      <td>1.0</td>\n",
       "      <td>0.0</td>\n",
       "      <td>1.0</td>\n",
       "      <td>0.0</td>\n",
       "    </tr>\n",
       "    <tr>\n",
       "      <th>7</th>\n",
       "      <td>10.0</td>\n",
       "      <td>0.0</td>\n",
       "      <td>1.0</td>\n",
       "      <td>1.0</td>\n",
       "      <td>0.00</td>\n",
       "      <td>29.75</td>\n",
       "      <td>29.75</td>\n",
       "      <td>0.0</td>\n",
       "      <td>1.0</td>\n",
       "      <td>1.0</td>\n",
       "      <td>0.0</td>\n",
       "      <td>0.0</td>\n",
       "      <td>0.0</td>\n",
       "      <td>0.0</td>\n",
       "      <td>0.0</td>\n",
       "      <td>0.0</td>\n",
       "      <td>0.0</td>\n",
       "      <td>0.0</td>\n",
       "      <td>0.0</td>\n",
       "      <td>1.0</td>\n",
       "      <td>1.0</td>\n",
       "      <td>1.0</td>\n",
       "      <td>0.0</td>\n",
       "      <td>0.0</td>\n",
       "      <td>0.0</td>\n",
       "    </tr>\n",
       "    <tr>\n",
       "      <th>8</th>\n",
       "      <td>28.0</td>\n",
       "      <td>1.0</td>\n",
       "      <td>0.0</td>\n",
       "      <td>1.0</td>\n",
       "      <td>104.80</td>\n",
       "      <td>0.00</td>\n",
       "      <td>104.80</td>\n",
       "      <td>1.0</td>\n",
       "      <td>0.0</td>\n",
       "      <td>1.0</td>\n",
       "      <td>1.0</td>\n",
       "      <td>1.0</td>\n",
       "      <td>0.0</td>\n",
       "      <td>1.0</td>\n",
       "      <td>1.0</td>\n",
       "      <td>1.0</td>\n",
       "      <td>0.0</td>\n",
       "      <td>1.0</td>\n",
       "      <td>1.0</td>\n",
       "      <td>1.0</td>\n",
       "      <td>0.0</td>\n",
       "      <td>0.0</td>\n",
       "      <td>0.0</td>\n",
       "      <td>1.0</td>\n",
       "      <td>1.0</td>\n",
       "    </tr>\n",
       "    <tr>\n",
       "      <th>9</th>\n",
       "      <td>62.0</td>\n",
       "      <td>0.0</td>\n",
       "      <td>1.0</td>\n",
       "      <td>0.0</td>\n",
       "      <td>0.00</td>\n",
       "      <td>56.15</td>\n",
       "      <td>0.00</td>\n",
       "      <td>0.0</td>\n",
       "      <td>0.0</td>\n",
       "      <td>0.0</td>\n",
       "      <td>0.0</td>\n",
       "      <td>0.0</td>\n",
       "      <td>0.0</td>\n",
       "      <td>0.0</td>\n",
       "      <td>0.0</td>\n",
       "      <td>0.0</td>\n",
       "      <td>0.0</td>\n",
       "      <td>0.0</td>\n",
       "      <td>0.0</td>\n",
       "      <td>0.0</td>\n",
       "      <td>0.0</td>\n",
       "      <td>0.0</td>\n",
       "      <td>0.0</td>\n",
       "      <td>0.0</td>\n",
       "      <td>0.0</td>\n",
       "    </tr>\n",
       "  </tbody>\n",
       "</table>\n",
       "</div>"
      ],
      "text/plain": [
       "   tenure  OnlineSecurity_No  TechSupport_No  Contract_Month-to-month  \\\n",
       "0     1.0                1.0             1.0                      1.0   \n",
       "1    34.0                0.0             1.0                      0.0   \n",
       "2     2.0                0.0             1.0                      1.0   \n",
       "3    45.0                0.0             0.0                      0.0   \n",
       "4     2.0                1.0             1.0                      1.0   \n",
       "5     8.0                1.0             1.0                      1.0   \n",
       "6    22.0                1.0             1.0                      1.0   \n",
       "7    10.0                0.0             1.0                      1.0   \n",
       "8    28.0                1.0             0.0                      1.0   \n",
       "9    62.0                0.0             1.0                      0.0   \n",
       "\n",
       "   MonthlyCharges_OnlineSecurity_No  MonthlyCharges_TechSupport_No  \\\n",
       "0                             29.85                          29.85   \n",
       "1                              0.00                          56.95   \n",
       "2                              0.00                          53.85   \n",
       "3                              0.00                           0.00   \n",
       "4                             70.70                          70.70   \n",
       "5                             99.65                          99.65   \n",
       "6                             89.10                          89.10   \n",
       "7                              0.00                          29.75   \n",
       "8                            104.80                           0.00   \n",
       "9                              0.00                          56.15   \n",
       "\n",
       "   MonthlyCharges_Contract_Month-to-month  Dependents_No_OnlineSecurity_No  \\\n",
       "0                                   29.85                              1.0   \n",
       "1                                    0.00                              0.0   \n",
       "2                                   53.85                              0.0   \n",
       "3                                    0.00                              0.0   \n",
       "4                                   70.70                              1.0   \n",
       "5                                   99.65                              1.0   \n",
       "6                                   89.10                              0.0   \n",
       "7                                   29.75                              0.0   \n",
       "8                                  104.80                              1.0   \n",
       "9                                    0.00                              0.0   \n",
       "\n",
       "   Dependents_No_TechSupport_No  Dependents_No_Contract_Month-to-month  \\\n",
       "0                           1.0                                    1.0   \n",
       "1                           1.0                                    0.0   \n",
       "2                           1.0                                    1.0   \n",
       "3                           0.0                                    0.0   \n",
       "4                           1.0                                    1.0   \n",
       "5                           1.0                                    1.0   \n",
       "6                           0.0                                    0.0   \n",
       "7                           1.0                                    1.0   \n",
       "8                           0.0                                    1.0   \n",
       "9                           0.0                                    0.0   \n",
       "\n",
       "   PhoneService_Yes_Contract_Month-to-month  \\\n",
       "0                                       0.0   \n",
       "1                                       0.0   \n",
       "2                                       1.0   \n",
       "3                                       0.0   \n",
       "4                                       1.0   \n",
       "5                                       1.0   \n",
       "6                                       1.0   \n",
       "7                                       0.0   \n",
       "8                                       1.0   \n",
       "9                                       0.0   \n",
       "\n",
       "   InternetService_Fiber optic_OnlineSecurity_No  \\\n",
       "0                                            0.0   \n",
       "1                                            0.0   \n",
       "2                                            0.0   \n",
       "3                                            0.0   \n",
       "4                                            1.0   \n",
       "5                                            1.0   \n",
       "6                                            1.0   \n",
       "7                                            0.0   \n",
       "8                                            1.0   \n",
       "9                                            0.0   \n",
       "\n",
       "   InternetService_Fiber optic_TechSupport_No  \\\n",
       "0                                         0.0   \n",
       "1                                         0.0   \n",
       "2                                         0.0   \n",
       "3                                         0.0   \n",
       "4                                         1.0   \n",
       "5                                         1.0   \n",
       "6                                         1.0   \n",
       "7                                         0.0   \n",
       "8                                         0.0   \n",
       "9                                         0.0   \n",
       "\n",
       "   InternetService_Fiber optic_Contract_Month-to-month  \\\n",
       "0                                                0.0     \n",
       "1                                                0.0     \n",
       "2                                                0.0     \n",
       "3                                                0.0     \n",
       "4                                                1.0     \n",
       "5                                                1.0     \n",
       "6                                                1.0     \n",
       "7                                                0.0     \n",
       "8                                                1.0     \n",
       "9                                                0.0     \n",
       "\n",
       "   InternetService_Fiber optic_PaymentMethod_Electronic check  \\\n",
       "0                                                0.0            \n",
       "1                                                0.0            \n",
       "2                                                0.0            \n",
       "3                                                0.0            \n",
       "4                                                1.0            \n",
       "5                                                1.0            \n",
       "6                                                0.0            \n",
       "7                                                0.0            \n",
       "8                                                1.0            \n",
       "9                                                0.0            \n",
       "\n",
       "   OnlineSecurity_No_OnlineBackup_No  OnlineSecurity_No_TechSupport_No  \\\n",
       "0                                0.0                               1.0   \n",
       "1                                0.0                               0.0   \n",
       "2                                0.0                               0.0   \n",
       "3                                0.0                               0.0   \n",
       "4                                1.0                               1.0   \n",
       "5                                1.0                               1.0   \n",
       "6                                0.0                               1.0   \n",
       "7                                0.0                               0.0   \n",
       "8                                1.0                               0.0   \n",
       "9                                0.0                               0.0   \n",
       "\n",
       "   OnlineSecurity_No_Contract_Month-to-month  \\\n",
       "0                                        1.0   \n",
       "1                                        0.0   \n",
       "2                                        0.0   \n",
       "3                                        0.0   \n",
       "4                                        1.0   \n",
       "5                                        1.0   \n",
       "6                                        1.0   \n",
       "7                                        0.0   \n",
       "8                                        1.0   \n",
       "9                                        0.0   \n",
       "\n",
       "   OnlineSecurity_No_PaymentMethod_Electronic check  \\\n",
       "0                                               1.0   \n",
       "1                                               0.0   \n",
       "2                                               0.0   \n",
       "3                                               0.0   \n",
       "4                                               1.0   \n",
       "5                                               1.0   \n",
       "6                                               0.0   \n",
       "7                                               0.0   \n",
       "8                                               1.0   \n",
       "9                                               0.0   \n",
       "\n",
       "   OnlineBackup_No_Contract_Month-to-month  \\\n",
       "0                                      0.0   \n",
       "1                                      0.0   \n",
       "2                                      0.0   \n",
       "3                                      0.0   \n",
       "4                                      1.0   \n",
       "5                                      1.0   \n",
       "6                                      0.0   \n",
       "7                                      1.0   \n",
       "8                                      1.0   \n",
       "9                                      0.0   \n",
       "\n",
       "   DeviceProtection_No_Contract_Month-to-month  \\\n",
       "0                                          1.0   \n",
       "1                                          0.0   \n",
       "2                                          1.0   \n",
       "3                                          0.0   \n",
       "4                                          1.0   \n",
       "5                                          0.0   \n",
       "6                                          1.0   \n",
       "7                                          1.0   \n",
       "8                                          0.0   \n",
       "9                                          0.0   \n",
       "\n",
       "   TechSupport_No_Contract_Month-to-month  \\\n",
       "0                                     1.0   \n",
       "1                                     0.0   \n",
       "2                                     1.0   \n",
       "3                                     0.0   \n",
       "4                                     1.0   \n",
       "5                                     1.0   \n",
       "6                                     1.0   \n",
       "7                                     1.0   \n",
       "8                                     0.0   \n",
       "9                                     0.0   \n",
       "\n",
       "   TechSupport_No_PaymentMethod_Electronic check  \\\n",
       "0                                            1.0   \n",
       "1                                            0.0   \n",
       "2                                            0.0   \n",
       "3                                            0.0   \n",
       "4                                            1.0   \n",
       "5                                            1.0   \n",
       "6                                            0.0   \n",
       "7                                            0.0   \n",
       "8                                            0.0   \n",
       "9                                            0.0   \n",
       "\n",
       "   Contract_Month-to-month_PaperlessBilling_Yes  \\\n",
       "0                                           1.0   \n",
       "1                                           0.0   \n",
       "2                                           1.0   \n",
       "3                                           0.0   \n",
       "4                                           1.0   \n",
       "5                                           1.0   \n",
       "6                                           1.0   \n",
       "7                                           0.0   \n",
       "8                                           1.0   \n",
       "9                                           0.0   \n",
       "\n",
       "   Contract_Month-to-month_PaymentMethod_Electronic check  \n",
       "0                                                1.0       \n",
       "1                                                0.0       \n",
       "2                                                0.0       \n",
       "3                                                0.0       \n",
       "4                                                1.0       \n",
       "5                                                1.0       \n",
       "6                                                0.0       \n",
       "7                                                0.0       \n",
       "8                                                1.0       \n",
       "9                                                0.0       "
      ]
     },
     "execution_count": 42,
     "metadata": {},
     "output_type": "execute_result"
    }
   ],
   "source": [
    "from sklearn.preprocessing import PolynomialFeatures\n",
    "import sklearn.feature_selection\n",
    "\n",
    "# Find interactions between current features and append them to the dataframe\n",
    "def add_interactions(dataset):\n",
    "    # Get feature names\n",
    "    comb = list(combinations(list(dataset.columns), 2))\n",
    "    col_names = list(dataset.columns) + ['_'.join(x) for x in comb]\n",
    "    \n",
    "    # Find interactions\n",
    "    poly = PolynomialFeatures(interaction_only=True, include_bias=False)\n",
    "    dataset = poly.fit_transform(dataset)\n",
    "    dataset = pd.DataFrame(dataset)\n",
    "    dataset.columns = col_names\n",
    "    \n",
    "    # Remove interactions with 0 values\n",
    "    no_inter_indexes = [i for i, x in enumerate(list((dataset ==0).all())) if x]\n",
    "    dataset = dataset.drop(dataset.columns[no_inter_indexes], axis=1)\n",
    "    \n",
    "    return dataset\n",
    "\n",
    "\n",
    "X_inter = add_interactions(X)\n",
    "X_inter.head(15)\n",
    "\n",
    "# Select best features\n",
    "select = sklearn.feature_selection.SelectKBest(k=25)\n",
    "selected_features = select.fit(X_inter, y_le)\n",
    "indexes = selected_features.get_support(indices=True)\n",
    "col_names_selected = [X_inter.columns[i] for i in indexes]\n",
    "\n",
    "X_selected = X_inter[col_names_selected]\n",
    "X_selected.head(10)"
   ]
  },
  {
   "cell_type": "markdown",
   "metadata": {},
   "source": [
    "## Data Split (Training / Test) and Normalization (x = (x - xmin) / (xmax - xmin) ) "
   ]
  },
  {
   "cell_type": "code",
   "execution_count": 43,
   "metadata": {},
   "outputs": [
    {
     "name": "stdout",
     "output_type": "stream",
     "text": [
      "training size:  (4718, 25) (4718,)\n",
      "test size (2325, 25) (2325,)\n"
     ]
    },
    {
     "data": {
      "text/html": [
       "<div>\n",
       "<style scoped>\n",
       "    .dataframe tbody tr th:only-of-type {\n",
       "        vertical-align: middle;\n",
       "    }\n",
       "\n",
       "    .dataframe tbody tr th {\n",
       "        vertical-align: top;\n",
       "    }\n",
       "\n",
       "    .dataframe thead th {\n",
       "        text-align: right;\n",
       "    }\n",
       "</style>\n",
       "<table border=\"1\" class=\"dataframe\">\n",
       "  <thead>\n",
       "    <tr style=\"text-align: right;\">\n",
       "      <th></th>\n",
       "      <th>0</th>\n",
       "    </tr>\n",
       "  </thead>\n",
       "  <tbody>\n",
       "    <tr>\n",
       "      <th>0</th>\n",
       "      <td>0</td>\n",
       "    </tr>\n",
       "    <tr>\n",
       "      <th>1</th>\n",
       "      <td>1</td>\n",
       "    </tr>\n",
       "    <tr>\n",
       "      <th>2</th>\n",
       "      <td>0</td>\n",
       "    </tr>\n",
       "    <tr>\n",
       "      <th>3</th>\n",
       "      <td>1</td>\n",
       "    </tr>\n",
       "    <tr>\n",
       "      <th>4</th>\n",
       "      <td>0</td>\n",
       "    </tr>\n",
       "  </tbody>\n",
       "</table>\n",
       "</div>"
      ],
      "text/plain": [
       "   0\n",
       "0  0\n",
       "1  1\n",
       "2  0\n",
       "3  1\n",
       "4  0"
      ]
     },
     "execution_count": 43,
     "metadata": {},
     "output_type": "execute_result"
    }
   ],
   "source": [
    "from sklearn.model_selection import train_test_split\n",
    "from sklearn.preprocessing import  StandardScaler\n",
    "\n",
    "#Split Data\n",
    "X_train, X_test, y_train, y_test = train_test_split(X_selected, y_le,\\\n",
    "                                                    test_size=0.33, random_state=42)\n",
    "print(\"training size: \", X_train.shape, y_train.shape)\n",
    "print(\"test size\",  X_test.shape, y_test.shape)\n",
    "\n",
    "# Use StandardScaler\n",
    "scaler = StandardScaler().fit(X_train, y_train)\n",
    "X_train_scaled = scaler.transform(X_train)\n",
    "\n",
    "pd.DataFrame(X_train_scaled, columns=X_train.columns).head()\n",
    "pd.DataFrame(y_train).head(5)"
   ]
  },
  {
   "cell_type": "markdown",
   "metadata": {},
   "source": [
    "## Building a Classifier \n",
    "### SVM (Support Vector Machine algorithm) - scikit learn SVC "
   ]
  },
  {
   "cell_type": "code",
   "execution_count": 44,
   "metadata": {},
   "outputs": [
    {
     "data": {
      "text/plain": [
       "SVC(C=1.0, cache_size=200, class_weight=None, coef0=0.0,\n",
       "  decision_function_shape='ovr', degree=3, gamma='auto', kernel='rbf',\n",
       "  max_iter=-1, probability=True, random_state=42, shrinking=True,\n",
       "  tol=0.001, verbose=False)"
      ]
     },
     "execution_count": 44,
     "metadata": {},
     "output_type": "execute_result"
    }
   ],
   "source": [
    "\n",
    "#Support Vector Macines on preprocessed data\n",
    "from sklearn.svm import SVC\n",
    "# Run classifier\n",
    "clf_svc = SVC(random_state=42, probability=True)\n",
    "clf_svc.fit(X_train_scaled, y_train)\n"
   ]
  },
  {
   "cell_type": "markdown",
   "metadata": {},
   "source": [
    "### Logistic Regression"
   ]
  },
  {
   "cell_type": "code",
   "execution_count": 45,
   "metadata": {},
   "outputs": [
    {
     "data": {
      "text/plain": [
       "LogisticRegression(C=1.0, class_weight=None, dual=False, fit_intercept=True,\n",
       "          intercept_scaling=1, max_iter=100, multi_class='ovr', n_jobs=1,\n",
       "          penalty='l2', random_state=None, solver='liblinear', tol=0.0001,\n",
       "          verbose=0, warm_start=False)"
      ]
     },
     "execution_count": 45,
     "metadata": {},
     "output_type": "execute_result"
    }
   ],
   "source": [
    "from sklearn.linear_model import LogisticRegression\n",
    "\n",
    "clf_lr = LogisticRegression()\n",
    "model = clf_lr.fit(X_train_scaled, y_train)\n",
    "model"
   ]
  },
  {
   "cell_type": "markdown",
   "metadata": {},
   "source": [
    "### Multilayer Perceptron (Neural Network) "
   ]
  },
  {
   "cell_type": "code",
   "execution_count": 46,
   "metadata": {},
   "outputs": [
    {
     "data": {
      "text/plain": [
       "MLPClassifier(activation='relu', alpha=0.0001, batch_size='auto', beta_1=0.9,\n",
       "       beta_2=0.999, early_stopping=False, epsilon=1e-08,\n",
       "       hidden_layer_sizes=(100,), learning_rate='constant',\n",
       "       learning_rate_init=0.001, max_iter=200, momentum=0.9,\n",
       "       nesterovs_momentum=True, power_t=0.5, random_state=None,\n",
       "       shuffle=True, solver='adam', tol=0.0001, validation_fraction=0.1,\n",
       "       verbose=0, warm_start=False)"
      ]
     },
     "execution_count": 46,
     "metadata": {},
     "output_type": "execute_result"
    }
   ],
   "source": [
    "from sklearn.neural_network import MLPClassifier\n",
    "\n",
    "clf_mlp = MLPClassifier(verbose=0)\n",
    "clf_mlp.fit(X_train_scaled, y_train)\n",
    "\n",
    "# Note: MLP as a NN, can use data without the feature engineering step, as the NN will handle that automatically"
   ]
  },
  {
   "cell_type": "markdown",
   "metadata": {},
   "source": [
    "## Model Evaluation\n",
    "### SVC"
   ]
  },
  {
   "cell_type": "code",
   "execution_count": 47,
   "metadata": {},
   "outputs": [
    {
     "name": "stdout",
     "output_type": "stream",
     "text": [
      "Accuracy: 0.8008602150537635\n",
      "Average precision-recall score: 0.65\n"
     ]
    }
   ],
   "source": [
    "from sklearn.metrics import average_precision_score\n",
    "\n",
    "# Use the scaler fit on trained data to scale our test data\n",
    "X_test_scaled = scaler.transform(X_test)\n",
    "pd.DataFrame(X_test_scaled, columns=X_train.columns).head()\n",
    "\n",
    "# Get accuracy score\n",
    "from sklearn.metrics import accuracy_score\n",
    "# Get model confidence of predictions\n",
    "y_score_svc = clf_svc.decision_function(X_test_scaled)\n",
    "y_score_svc\n",
    "\n",
    "# Get Precision vs. Recall score\n",
    "\n",
    "# Get accuracy score\n",
    "y_pred_svc = clf_svc.predict(X_test_scaled)\n",
    "acc_svc = accuracy_score(y_test, y_pred_svc)\n",
    "print(\"Accuracy:\", acc_svc)\n",
    "\n",
    "# Get Precision vs. Recall score\n",
    "average_precision_svc = average_precision_score(y_test, y_score_svc)\n",
    "\n",
    "print('Average precision-recall score: {0:0.2f}'.format(\n",
    "      average_precision_svc))\n",
    "\n",
    "### Recall or true positive rate/sensitivity  \n",
    "### Recall    = tp / tp + fn\n",
    "### Precision = tp / tp + fp "
   ]
  },
  {
   "cell_type": "markdown",
   "metadata": {},
   "source": [
    "### MLP"
   ]
  },
  {
   "cell_type": "code",
   "execution_count": 48,
   "metadata": {},
   "outputs": [
    {
     "name": "stdout",
     "output_type": "stream",
     "text": [
      "Accuracy: 0.8086021505376344\n",
      "Average precision-recall score: 0.68\n"
     ]
    }
   ],
   "source": [
    "y_score_mlp = clf_mlp.predict_proba(X_test_scaled)[:, 1]\n",
    "y_score_mlp\n",
    "y_pred_mlp = clf_mlp.predict(X_test_scaled)\n",
    "acc_mlp = accuracy_score(y_test, y_pred_mlp)\n",
    "print(\"Accuracy:\", acc_mlp)\n",
    "average_precision_mlp = average_precision_score(y_test, y_score_mlp)\n",
    "\n",
    "print('Average precision-recall score: {0:0.2f}'.format(\n",
    "      average_precision_mlp))"
   ]
  },
  {
   "cell_type": "markdown",
   "metadata": {},
   "source": [
    "### Logistic Regression"
   ]
  },
  {
   "cell_type": "code",
   "execution_count": 49,
   "metadata": {},
   "outputs": [
    {
     "name": "stdout",
     "output_type": "stream",
     "text": [
      "Accuracy: 0.8098924731182796\n",
      "Average precision-recall score: 0.67\n"
     ]
    }
   ],
   "source": [
    "y_score_lr = clf_lr.decision_function(X_test_scaled)\n",
    "y_score_lr\n",
    "y_pred_lr = clf_lr.predict(X_test_scaled)\n",
    "acc_lr = accuracy_score(y_test, y_pred_lr)\n",
    "print(\"Accuracy:\", acc_lr)\n",
    "average_precision_lr = average_precision_score(y_test, y_score_lr)\n",
    "\n",
    "print('Average precision-recall score: {0:0.2f}'.format(\n",
    "      average_precision_lr))  "
   ]
  },
  {
   "cell_type": "markdown",
   "metadata": {},
   "source": [
    "## Model Comparison & Selection"
   ]
  },
  {
   "cell_type": "code",
   "execution_count": 50,
   "metadata": {},
   "outputs": [
    {
     "data": {
      "text/plain": [
       "<matplotlib.legend.Legend at 0x7000004150d52e8>"
      ]
     },
     "execution_count": 50,
     "metadata": {},
     "output_type": "execute_result"
    },
    {
     "data": {
      "image/png": "[encoded data removed]",
      "text/plain": [
       "<Figure size 1440x1080 with 1 Axes>"
      ]
     },
     "metadata": {},
     "output_type": "display_data"
    }
   ],
   "source": [
    "import sklearn.metrics as metrics\n",
    "## Model Comparison - ROC Curves \n",
    "plt.figure(0, figsize=(20,15)).clf()\n",
    "\n",
    "fpr_svc, tpr_svc, thresh_svc = metrics.roc_curve(y_test, y_score_svc)\n",
    "auc_svc = metrics.roc_auc_score(y_test, y_score_svc)\n",
    "plt.plot(fpr_svc, tpr_svc, label=\"SVC Processed, auc=\" + str(auc_svc))\n",
    "\n",
    "fpr_mlp, tpr_mlp, thresh_mlp = metrics.roc_curve(y_test, y_score_mlp)\n",
    "auc_mlp = metrics.roc_auc_score(y_test, y_score_mlp)\n",
    "plt.plot(fpr_mlp, tpr_mlp, label=\"MLP, auc=\" + str(auc_mlp))\n",
    "\n",
    "fpr_lr, tpr_lr, thresh_lr = metrics.roc_curve(y_test, y_score_lr)\n",
    "auc_lr = metrics.roc_auc_score(y_test, y_score_lr)\n",
    "plt.plot(fpr_lr, tpr_lr, label=\"Logistic Regression, auc=\" + str(auc_lr))\n",
    "\n",
    "#plt.legend(loc=0)\n",
    "plt.xlabel('False Positive Rate')\n",
    "plt.ylabel('True Positive Rate')\n",
    "plt.title('Receiver operating characteristic')\n",
    "plt.legend(loc=\"upper left\")"
   ]
  },
  {
   "cell_type": "code",
   "execution_count": 51,
   "metadata": {},
   "outputs": [
    {
     "name": "stdout",
     "output_type": "stream",
     "text": [
      "             precision    recall  f1-score   support\n",
      "\n",
      "          0       0.84      0.90      0.87      1697\n",
      "          1       0.66      0.54      0.60       628\n",
      "\n",
      "avg / total       0.79      0.80      0.79      2325\n",
      "\n"
     ]
    }
   ],
   "source": [
    "from sklearn.metrics import classification_report\n",
    "\n",
    "print(classification_report(y_test, y_pred_svc))"
   ]
  },
  {
   "cell_type": "markdown",
   "metadata": {},
   "source": [
    "## Test / Inference"
   ]
  },
  {
   "cell_type": "code",
   "execution_count": 52,
   "metadata": {},
   "outputs": [
    {
     "name": "stdout",
     "output_type": "stream",
     "text": [
      "Support Vector Machine (aka Scikit Learn SVC) Model Inference - Telco Churn on IBM i 7.3\n",
      "Input Data to classify:\n",
      "[[20.    0.    1.    0.   60.55 10.   15.    0.    0.    0.    0.    0.\n",
      "   1.    1.    1.    1.    0.    0.    0.    0.    0.    0.    0.    0.\n",
      "   0.  ]]\n",
      "Result (Class):[0]\n",
      "Result (Probability):[[0.75022296 0.24977704]]\n"
     ]
    }
   ],
   "source": [
    "XInfer= np.array([[20.0, 0.0, 1.0, 0.0, 60.55, 10.0, 15.0, 0.0, 0.0, 0.0, 0.0, 0.0, 1.0, 1.0, 1.0, 1.0, 0.0, 0.0, 0.0, 0.0, 0.0, 0.0, 0.0, 0.0, 0.0]])\n",
    "print(\"Support Vector Machine (aka Scikit Learn SVC) Model Inference - Telco Churn on IBM i 7.3\")\n",
    "print(\"Input Data to classify:\\n\", end=\"\")\n",
    "print(XInfer)\n",
    "print(\"Result (Class):\", end=\"\")\n",
    "print(clf_svc.predict(XInfer))\n",
    "print(\"Result (Probability):\", end=\"\")\n",
    "print(clf_svc.predict_proba(XInfer))\n"
   ]
  },
  {
   "cell_type": "markdown",
   "metadata": {},
   "source": [
    "## Model Persistence  \n",
    "### Save trained model to IFS"
   ]
  },
  {
   "cell_type": "code",
   "execution_count": 53,
   "metadata": {},
   "outputs": [
    {
     "data": {
      "text/plain": [
       "['./SVC_Model_CHURN_IBMi_V1.joblib']"
      ]
     },
     "execution_count": 53,
     "metadata": {},
     "output_type": "execute_result"
    }
   ],
   "source": [
    "\n",
    "from joblib import dump, load\n",
    "dump(clf_svc, './SVC_Model_CHURN_IBMi_V1.joblib') \n"
   ]
  },
  {
   "cell_type": "code",
   "execution_count": 54,
   "metadata": {},
   "outputs": [
    {
     "data": {
      "text/plain": [
       "['./SVC_Columns.pkl']"
      ]
     },
     "execution_count": 54,
     "metadata": {},
     "output_type": "execute_result"
    }
   ],
   "source": [
    "## Let'store the Columns / Features list \n",
    "model_columns = list(X_selected.columns)\n",
    "dump(model_columns,'./SVC_Columns.pkl')"
   ]
  },
  {
   "cell_type": "markdown",
   "metadata": {},
   "source": [
    "   ### Load trained model\n",
    "   #### Python Application can use the created model"
   ]
  },
  {
   "cell_type": "code",
   "execution_count": 55,
   "metadata": {},
   "outputs": [],
   "source": [
    "from joblib import load\n",
    "clf_svc = load('SVC_Model_CHURN_IBMi_V1.joblib') "
   ]
  },
  {
   "cell_type": "markdown",
   "metadata": {},
   "source": [
    "# Test the Model - Model Inference on IBM i"
   ]
  },
  {
   "cell_type": "code",
   "execution_count": 56,
   "metadata": {},
   "outputs": [
    {
     "name": "stdout",
     "output_type": "stream",
     "text": [
      "Testing model on IBM i\n",
      "IBM i Scikit Learn Scoring on 20 new Customers \n",
      "[1 0 0 1 0 0 0 0 0 0 0 0 0 1 0 1 1 1 0 1]\n"
     ]
    }
   ],
   "source": [
    "#XInfer=pd.DataFrame(X_train_scaled, columns=X_train.columns).head(20).values                                                                                                              \n",
    "#print(clf_svc.predict(XInfer))                                                                                                                                                            \n",
    "#[0 0 0 1 0 1 0 0 0 0 0 1 0 1 0 1 0 0 0 0]\n",
    "\n",
    "#X_train_scaled.shape                                                                                                                                                                      \n",
    "#(4718, 25)\n",
    "\n",
    "X_test_scaled.shape                                                                                                                                                                       \n",
    "#(2325, 25)\n",
    "print(\"Testing model on IBM i\")\n",
    "#print(\"Test Dataset:\")\n",
    "#print(X_test_scaled)\n",
    "\n",
    "XInfer=pd.DataFrame(X_test_scaled, columns=X_train.columns).head(20).values                                                                                                               \n",
    "print(\"IBM i Scikit Learn Scoring on 20 new Customers \")\n",
    "print(clf_svc.predict(XInfer))                                                                                                                                                            \n",
    "#[1 0 0 1 0 0 0 0 0 0 0 0 0 1 0 1 1 1 0 1]\n"
   ]
  },
  {
   "cell_type": "code",
   "execution_count": 57,
   "metadata": {},
   "outputs": [
    {
     "name": "stdout",
     "output_type": "stream",
     "text": [
      "[[0.27807305 0.72192695]\n",
      " [0.84525602 0.15474398]\n",
      " [0.8468064  0.1531936 ]\n",
      " [0.31472176 0.68527824]\n",
      " [0.8481302  0.1518698 ]\n",
      " [0.86909208 0.13090792]\n",
      " [0.84684585 0.15315415]\n",
      " [0.84687523 0.15312477]\n",
      " [0.84688002 0.15311998]\n",
      " [0.84667508 0.15332492]\n",
      " [0.84681327 0.15318673]\n",
      " [0.79215102 0.20784898]\n",
      " [0.84859706 0.15140294]\n",
      " [0.57221692 0.42778308]\n",
      " [0.84757387 0.15242613]\n",
      " [0.30380482 0.69619518]\n",
      " [0.35427589 0.64572411]\n",
      " [0.29005994 0.70994006]\n",
      " [0.60271335 0.39728665]\n",
      " [0.35797719 0.64202281]]\n"
     ]
    }
   ],
   "source": [
    "print(clf_svc.predict_proba(XInfer))"
   ]
  }
 ],
 "metadata": {
  "kernelspec": {
   "display_name": ".venv",
   "language": "python",
   "name": "python3"
  },
  "language_info": {
   "codemirror_mode": {
    "name": "ipython",
    "version": 3
   },
   "file_extension": ".py",
   "mimetype": "text/x-python",
   "name": "python",
   "nbconvert_exporter": "python",
   "pygments_lexer": "ipython3",
   "version": "3.6.8"
  }
 },
 "nbformat": 4,
 "nbformat_minor": 2
}
